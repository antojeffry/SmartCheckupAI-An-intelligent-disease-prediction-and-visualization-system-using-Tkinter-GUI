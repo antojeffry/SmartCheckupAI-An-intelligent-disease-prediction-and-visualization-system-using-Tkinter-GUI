{
 "cells": [
  {
   "cell_type": "markdown",
   "id": "5449116d",
   "metadata": {
    "papermill": {
     "duration": 0.029468,
     "end_time": "2021-05-26T13:24:24.122943",
     "exception": false,
     "start_time": "2021-05-26T13:24:24.093475",
     "status": "completed"
    },
    "tags": []
   },
   "source": [
    "# Disease Prediction using symptoms in tkinter GUI\n"
   ]
  },
  {
   "cell_type": "code",
   "execution_count": 1,
   "id": "56807e98",
   "metadata": {
    "execution": {
     "iopub.execute_input": "2021-05-26T13:24:24.413357Z",
     "iopub.status.busy": "2021-05-26T13:24:24.412607Z",
     "iopub.status.idle": "2021-05-26T13:24:25.683132Z",
     "shell.execute_reply": "2021-05-26T13:24:25.682447Z",
     "shell.execute_reply.started": "2021-05-23T05:47:26.82092Z"
    },
    "papermill": {
     "duration": 1.30906,
     "end_time": "2021-05-26T13:24:25.683290",
     "exception": false,
     "start_time": "2021-05-26T13:24:24.374230",
     "status": "completed"
    },
    "tags": []
   },
   "outputs": [
    {
     "name": "stderr",
     "output_type": "stream",
     "text": [
      "C:\\Users\\Antonydeepa\\Anaconda3\\lib\\site-packages\\numpy\\_distributor_init.py:32: UserWarning: loaded more than 1 DLL from .libs:\n",
      "C:\\Users\\Antonydeepa\\Anaconda3\\lib\\site-packages\\numpy\\.libs\\libopenblas.WCDJNK7YVMPZQ2ME2ZZHJJRJ3JIKNDB7.gfortran-win_amd64.dll\n",
      "C:\\Users\\Antonydeepa\\Anaconda3\\lib\\site-packages\\numpy\\.libs\\libopenblas.XWYDX2IKJW2NMTWSFYNGFUWKQU3LYTCZ.gfortran-win_amd64.dll\n",
      "  stacklevel=1)\n",
      "C:\\Users\\Antonydeepa\\Anaconda3\\lib\\site-packages\\pandas\\compat\\_optional.py:138: UserWarning: Pandas requires version '2.7.0' or newer of 'numexpr' (version '2.6.9' currently installed).\n",
      "  warnings.warn(msg, UserWarning)\n"
     ]
    }
   ],
   "source": [
    "import pandas as pd\n",
    "import numpy as np\n",
    "import matplotlib.pyplot as plt\n",
    "from sklearn.model_selection import train_test_split\n",
    "from sklearn.svm import SVC\n",
    "from sklearn.metrics import f1_score, accuracy_score, confusion_matrix,classification_report,precision_score,roc_curve\n",
    "import seaborn as sns\n",
    "from tkinter import *\n",
    "from tkinter import messagebox\n",
    "import sys \n",
    "import urllib\n",
    "import urllib.request\n",
    "from sklearn.model_selection import train_test_split,KFold,cross_val_score,GridSearchCV\n",
    "from sklearn.metrics import f1_score, accuracy_score, confusion_matrix,classification_report,precision_score,roc_curve\n",
    "from sklearn.utils import shuffle\n",
    "from pandas_profiling import ProfileReport\n",
    "from sklearn.linear_model import LogisticRegression, Perceptron, RidgeClassifier, SGDClassifier\n",
    "from sklearn.svm import SVC, LinearSVC\n",
    "from sklearn.ensemble import RandomForestClassifier, GradientBoostingClassifier, ExtraTreesClassifier \n",
    "from sklearn.ensemble import BaggingClassifier, AdaBoostClassifier, VotingClassifier \n",
    "from sklearn.neighbors import KNeighborsClassifier\n",
    "from sklearn.naive_bayes import GaussianNB\n",
    "from sklearn.tree import DecisionTreeClassifier\n",
    "from sklearn import metrics\n",
    "from collections import Counter"
   ]
  },
  {
   "cell_type": "code",
   "execution_count": 2,
   "id": "6ef869fc",
   "metadata": {
    "execution": {
     "iopub.execute_input": "2021-05-26T13:24:25.868078Z",
     "iopub.status.busy": "2021-05-26T13:24:25.867437Z",
     "iopub.status.idle": "2021-05-26T13:24:25.948278Z",
     "shell.execute_reply": "2021-05-26T13:24:25.948947Z",
     "shell.execute_reply.started": "2021-05-23T05:47:26.851053Z"
    },
    "papermill": {
     "duration": 0.11472,
     "end_time": "2021-05-26T13:24:25.949184",
     "exception": false,
     "start_time": "2021-05-26T13:24:25.834464",
     "status": "completed"
    },
    "scrolled": true,
    "tags": []
   },
   "outputs": [
    {
     "name": "stdout",
     "output_type": "stream",
     "text": [
      "            Disease   Symptom_1              Symptom_2              Symptom_3  \\\n",
      "0  Fungal infection     itching              skin_rash   nodal_skin_eruptions   \n",
      "1  Fungal infection   skin_rash   nodal_skin_eruptions    dischromic _patches   \n",
      "2  Fungal infection     itching   nodal_skin_eruptions    dischromic _patches   \n",
      "3  Fungal infection     itching              skin_rash    dischromic _patches   \n",
      "4  Fungal infection     itching              skin_rash   nodal_skin_eruptions   \n",
      "\n",
      "              Symptom_4 Symptom_5 Symptom_6 Symptom_7 Symptom_8 Symptom_9  \\\n",
      "0   dischromic _patches       NaN       NaN       NaN       NaN       NaN   \n",
      "1                   NaN       NaN       NaN       NaN       NaN       NaN   \n",
      "2                   NaN       NaN       NaN       NaN       NaN       NaN   \n",
      "3                   NaN       NaN       NaN       NaN       NaN       NaN   \n",
      "4                   NaN       NaN       NaN       NaN       NaN       NaN   \n",
      "\n",
      "  Symptom_10 Symptom_11 Symptom_12 Symptom_13 Symptom_14 Symptom_15  \\\n",
      "0        NaN        NaN        NaN        NaN        NaN        NaN   \n",
      "1        NaN        NaN        NaN        NaN        NaN        NaN   \n",
      "2        NaN        NaN        NaN        NaN        NaN        NaN   \n",
      "3        NaN        NaN        NaN        NaN        NaN        NaN   \n",
      "4        NaN        NaN        NaN        NaN        NaN        NaN   \n",
      "\n",
      "  Symptom_16 Symptom_17  \n",
      "0        NaN        NaN  \n",
      "1        NaN        NaN  \n",
      "2        NaN        NaN  \n",
      "3        NaN        NaN  \n",
      "4        NaN        NaN  \n",
      "                Symptom  weight\n",
      "0               itching       1\n",
      "1             skin_rash       3\n",
      "2  nodal_skin_eruptions       4\n",
      "3   continuous_sneezing       4\n",
      "4             shivering       5\n"
     ]
    }
   ],
   "source": [
    "df = pd.read_csv('dataset.csv')\n",
    "print(df.head())\n",
    "\n",
    "df1 = pd.read_csv('Symptom-severity.csv')\n",
    "print(df1.head())"
   ]
  },
  {
   "cell_type": "code",
   "execution_count": 3,
   "id": "a9ef78fb",
   "metadata": {},
   "outputs": [
    {
     "name": "stdout",
     "output_type": "stream",
     "text": [
      "(4920, 18)\n"
     ]
    }
   ],
   "source": [
    "len(df)\n",
    "print(df.shape)"
   ]
  },
  {
   "cell_type": "markdown",
   "id": "247b69be",
   "metadata": {
    "papermill": {
     "duration": 0.028408,
     "end_time": "2021-05-26T13:24:26.006911",
     "exception": false,
     "start_time": "2021-05-26T13:24:25.978503",
     "status": "completed"
    },
    "tags": []
   },
   "source": [
    "# Data preprocessing"
   ]
  },
  {
   "cell_type": "code",
   "execution_count": 4,
   "id": "58d305ca",
   "metadata": {
    "scrolled": false
   },
   "outputs": [
    {
     "data": {
      "text/plain": [
       "Disease          0\n",
       "Symptom_1        0\n",
       "Symptom_2        0\n",
       "Symptom_3        0\n",
       "Symptom_4      348\n",
       "Symptom_5     1206\n",
       "Symptom_6     1986\n",
       "Symptom_7     2652\n",
       "Symptom_8     2976\n",
       "Symptom_9     3228\n",
       "Symptom_10    3408\n",
       "Symptom_11    3726\n",
       "Symptom_12    4176\n",
       "Symptom_13    4416\n",
       "Symptom_14    4614\n",
       "Symptom_15    4680\n",
       "Symptom_16    4728\n",
       "Symptom_17    4848\n",
       "dtype: int64"
      ]
     },
     "execution_count": 4,
     "metadata": {},
     "output_type": "execute_result"
    }
   ],
   "source": [
    "df.isnull().sum()"
   ]
  },
  {
   "cell_type": "markdown",
   "id": "3aee1c76",
   "metadata": {},
   "source": [
    "There are more NA's in this dataset from symptom_4 to symtom_17. It doesn't mean that they are missing values but it's just that the symptoms were not there for the patients for that particular disease \n"
   ]
  },
  {
   "cell_type": "markdown",
   "id": "33d2a392",
   "metadata": {},
   "source": [
    "**Now we will strip any leading and trailing whitespaces from the elements**"
   ]
  },
  {
   "cell_type": "code",
   "execution_count": 5,
   "id": "bd233d0e",
   "metadata": {
    "execution": {
     "iopub.execute_input": "2021-05-26T13:24:26.077069Z",
     "iopub.status.busy": "2021-05-26T13:24:26.076057Z",
     "iopub.status.idle": "2021-05-26T13:24:26.161726Z",
     "shell.execute_reply": "2021-05-26T13:24:26.161165Z",
     "shell.execute_reply.started": "2021-05-23T05:47:26.956386Z"
    },
    "papermill": {
     "duration": 0.12625,
     "end_time": "2021-05-26T13:24:26.161924",
     "exception": false,
     "start_time": "2021-05-26T13:24:26.035674",
     "status": "completed"
    },
    "tags": []
   },
   "outputs": [],
   "source": [
    "cols = df.columns\n",
    "data = df[cols].values.flatten()\n",
    "\n",
    "s = pd.Series(data)\n",
    "s = s.str.strip()\n",
    "s = s.values.reshape(df.shape)\n",
    "\n",
    "df = pd.DataFrame(s, columns=df.columns)"
   ]
  },
  {
   "cell_type": "markdown",
   "id": "aa3413fa",
   "metadata": {},
   "source": [
    "**Filling the NA's with zero's**"
   ]
  },
  {
   "cell_type": "code",
   "execution_count": 6,
   "id": "0ff57897",
   "metadata": {
    "scrolled": true
   },
   "outputs": [
    {
     "data": {
      "text/html": [
       "<div>\n",
       "<style scoped>\n",
       "    .dataframe tbody tr th:only-of-type {\n",
       "        vertical-align: middle;\n",
       "    }\n",
       "\n",
       "    .dataframe tbody tr th {\n",
       "        vertical-align: top;\n",
       "    }\n",
       "\n",
       "    .dataframe thead th {\n",
       "        text-align: right;\n",
       "    }\n",
       "</style>\n",
       "<table border=\"1\" class=\"dataframe\">\n",
       "  <thead>\n",
       "    <tr style=\"text-align: right;\">\n",
       "      <th></th>\n",
       "      <th>Disease</th>\n",
       "      <th>Symptom_1</th>\n",
       "      <th>Symptom_2</th>\n",
       "      <th>Symptom_3</th>\n",
       "      <th>Symptom_4</th>\n",
       "      <th>Symptom_5</th>\n",
       "      <th>Symptom_6</th>\n",
       "      <th>Symptom_7</th>\n",
       "      <th>Symptom_8</th>\n",
       "      <th>Symptom_9</th>\n",
       "      <th>Symptom_10</th>\n",
       "      <th>Symptom_11</th>\n",
       "      <th>Symptom_12</th>\n",
       "      <th>Symptom_13</th>\n",
       "      <th>Symptom_14</th>\n",
       "      <th>Symptom_15</th>\n",
       "      <th>Symptom_16</th>\n",
       "      <th>Symptom_17</th>\n",
       "    </tr>\n",
       "  </thead>\n",
       "  <tbody>\n",
       "    <tr>\n",
       "      <th>0</th>\n",
       "      <td>Fungal infection</td>\n",
       "      <td>itching</td>\n",
       "      <td>skin_rash</td>\n",
       "      <td>nodal_skin_eruptions</td>\n",
       "      <td>dischromic _patches</td>\n",
       "      <td>0</td>\n",
       "      <td>0</td>\n",
       "      <td>0</td>\n",
       "      <td>0</td>\n",
       "      <td>0</td>\n",
       "      <td>0</td>\n",
       "      <td>0</td>\n",
       "      <td>0</td>\n",
       "      <td>0</td>\n",
       "      <td>0</td>\n",
       "      <td>0</td>\n",
       "      <td>0</td>\n",
       "      <td>0</td>\n",
       "    </tr>\n",
       "    <tr>\n",
       "      <th>1</th>\n",
       "      <td>Fungal infection</td>\n",
       "      <td>skin_rash</td>\n",
       "      <td>nodal_skin_eruptions</td>\n",
       "      <td>dischromic _patches</td>\n",
       "      <td>0</td>\n",
       "      <td>0</td>\n",
       "      <td>0</td>\n",
       "      <td>0</td>\n",
       "      <td>0</td>\n",
       "      <td>0</td>\n",
       "      <td>0</td>\n",
       "      <td>0</td>\n",
       "      <td>0</td>\n",
       "      <td>0</td>\n",
       "      <td>0</td>\n",
       "      <td>0</td>\n",
       "      <td>0</td>\n",
       "      <td>0</td>\n",
       "    </tr>\n",
       "    <tr>\n",
       "      <th>2</th>\n",
       "      <td>Fungal infection</td>\n",
       "      <td>itching</td>\n",
       "      <td>nodal_skin_eruptions</td>\n",
       "      <td>dischromic _patches</td>\n",
       "      <td>0</td>\n",
       "      <td>0</td>\n",
       "      <td>0</td>\n",
       "      <td>0</td>\n",
       "      <td>0</td>\n",
       "      <td>0</td>\n",
       "      <td>0</td>\n",
       "      <td>0</td>\n",
       "      <td>0</td>\n",
       "      <td>0</td>\n",
       "      <td>0</td>\n",
       "      <td>0</td>\n",
       "      <td>0</td>\n",
       "      <td>0</td>\n",
       "    </tr>\n",
       "    <tr>\n",
       "      <th>3</th>\n",
       "      <td>Fungal infection</td>\n",
       "      <td>itching</td>\n",
       "      <td>skin_rash</td>\n",
       "      <td>dischromic _patches</td>\n",
       "      <td>0</td>\n",
       "      <td>0</td>\n",
       "      <td>0</td>\n",
       "      <td>0</td>\n",
       "      <td>0</td>\n",
       "      <td>0</td>\n",
       "      <td>0</td>\n",
       "      <td>0</td>\n",
       "      <td>0</td>\n",
       "      <td>0</td>\n",
       "      <td>0</td>\n",
       "      <td>0</td>\n",
       "      <td>0</td>\n",
       "      <td>0</td>\n",
       "    </tr>\n",
       "    <tr>\n",
       "      <th>4</th>\n",
       "      <td>Fungal infection</td>\n",
       "      <td>itching</td>\n",
       "      <td>skin_rash</td>\n",
       "      <td>nodal_skin_eruptions</td>\n",
       "      <td>0</td>\n",
       "      <td>0</td>\n",
       "      <td>0</td>\n",
       "      <td>0</td>\n",
       "      <td>0</td>\n",
       "      <td>0</td>\n",
       "      <td>0</td>\n",
       "      <td>0</td>\n",
       "      <td>0</td>\n",
       "      <td>0</td>\n",
       "      <td>0</td>\n",
       "      <td>0</td>\n",
       "      <td>0</td>\n",
       "      <td>0</td>\n",
       "    </tr>\n",
       "  </tbody>\n",
       "</table>\n",
       "</div>"
      ],
      "text/plain": [
       "            Disease  Symptom_1             Symptom_2             Symptom_3  \\\n",
       "0  Fungal infection    itching             skin_rash  nodal_skin_eruptions   \n",
       "1  Fungal infection  skin_rash  nodal_skin_eruptions   dischromic _patches   \n",
       "2  Fungal infection    itching  nodal_skin_eruptions   dischromic _patches   \n",
       "3  Fungal infection    itching             skin_rash   dischromic _patches   \n",
       "4  Fungal infection    itching             skin_rash  nodal_skin_eruptions   \n",
       "\n",
       "             Symptom_4 Symptom_5 Symptom_6 Symptom_7 Symptom_8 Symptom_9  \\\n",
       "0  dischromic _patches         0         0         0         0         0   \n",
       "1                    0         0         0         0         0         0   \n",
       "2                    0         0         0         0         0         0   \n",
       "3                    0         0         0         0         0         0   \n",
       "4                    0         0         0         0         0         0   \n",
       "\n",
       "  Symptom_10 Symptom_11 Symptom_12 Symptom_13 Symptom_14 Symptom_15  \\\n",
       "0          0          0          0          0          0          0   \n",
       "1          0          0          0          0          0          0   \n",
       "2          0          0          0          0          0          0   \n",
       "3          0          0          0          0          0          0   \n",
       "4          0          0          0          0          0          0   \n",
       "\n",
       "  Symptom_16 Symptom_17  \n",
       "0          0          0  \n",
       "1          0          0  \n",
       "2          0          0  \n",
       "3          0          0  \n",
       "4          0          0  "
      ]
     },
     "execution_count": 6,
     "metadata": {},
     "output_type": "execute_result"
    }
   ],
   "source": [
    "df = df.fillna(0)\n",
    "df.head()"
   ]
  },
  {
   "cell_type": "code",
   "execution_count": 7,
   "id": "1b537e02",
   "metadata": {},
   "outputs": [
    {
     "name": "stdout",
     "output_type": "stream",
     "text": [
      "The number of diseases are  41\n",
      "The number of symptoms are  132\n"
     ]
    }
   ],
   "source": [
    "print(\"The number of diseases are \",len(df['Disease'].unique()))\n",
    "print(\"The number of symptoms are \",len(df1['Symptom'].unique()))"
   ]
  },
  {
   "cell_type": "markdown",
   "id": "83aad0ea",
   "metadata": {
    "papermill": {
     "duration": 0.029882,
     "end_time": "2021-05-26T13:24:26.221089",
     "exception": false,
     "start_time": "2021-05-26T13:24:26.191207",
     "status": "completed"
    },
    "tags": []
   },
   "source": [
    "<h2>Encoding the the symptoms with their severity weight</h2>"
   ]
  },
  {
   "cell_type": "code",
   "execution_count": 8,
   "id": "cd118067",
   "metadata": {
    "execution": {
     "iopub.execute_input": "2021-05-26T13:24:26.288234Z",
     "iopub.status.busy": "2021-05-26T13:24:26.287193Z",
     "iopub.status.idle": "2021-05-26T13:24:26.880067Z",
     "shell.execute_reply": "2021-05-26T13:24:26.879467Z",
     "shell.execute_reply.started": "2021-05-23T05:47:27.053575Z"
    },
    "papermill": {
     "duration": 0.629301,
     "end_time": "2021-05-26T13:24:26.880209",
     "exception": false,
     "start_time": "2021-05-26T13:24:26.250908",
     "status": "completed"
    },
    "tags": []
   },
   "outputs": [
    {
     "data": {
      "text/html": [
       "<div>\n",
       "<style scoped>\n",
       "    .dataframe tbody tr th:only-of-type {\n",
       "        vertical-align: middle;\n",
       "    }\n",
       "\n",
       "    .dataframe tbody tr th {\n",
       "        vertical-align: top;\n",
       "    }\n",
       "\n",
       "    .dataframe thead th {\n",
       "        text-align: right;\n",
       "    }\n",
       "</style>\n",
       "<table border=\"1\" class=\"dataframe\">\n",
       "  <thead>\n",
       "    <tr style=\"text-align: right;\">\n",
       "      <th></th>\n",
       "      <th>Disease</th>\n",
       "      <th>Symptom_1</th>\n",
       "      <th>Symptom_2</th>\n",
       "      <th>Symptom_3</th>\n",
       "      <th>Symptom_4</th>\n",
       "      <th>Symptom_5</th>\n",
       "      <th>Symptom_6</th>\n",
       "      <th>Symptom_7</th>\n",
       "      <th>Symptom_8</th>\n",
       "      <th>Symptom_9</th>\n",
       "      <th>Symptom_10</th>\n",
       "      <th>Symptom_11</th>\n",
       "      <th>Symptom_12</th>\n",
       "      <th>Symptom_13</th>\n",
       "      <th>Symptom_14</th>\n",
       "      <th>Symptom_15</th>\n",
       "      <th>Symptom_16</th>\n",
       "      <th>Symptom_17</th>\n",
       "    </tr>\n",
       "  </thead>\n",
       "  <tbody>\n",
       "    <tr>\n",
       "      <th>0</th>\n",
       "      <td>Fungal infection</td>\n",
       "      <td>1</td>\n",
       "      <td>3</td>\n",
       "      <td>4</td>\n",
       "      <td>0</td>\n",
       "      <td>0</td>\n",
       "      <td>0</td>\n",
       "      <td>0</td>\n",
       "      <td>0</td>\n",
       "      <td>0</td>\n",
       "      <td>0</td>\n",
       "      <td>0</td>\n",
       "      <td>0</td>\n",
       "      <td>0</td>\n",
       "      <td>0</td>\n",
       "      <td>0</td>\n",
       "      <td>0</td>\n",
       "      <td>0</td>\n",
       "    </tr>\n",
       "    <tr>\n",
       "      <th>1</th>\n",
       "      <td>Fungal infection</td>\n",
       "      <td>3</td>\n",
       "      <td>4</td>\n",
       "      <td>0</td>\n",
       "      <td>0</td>\n",
       "      <td>0</td>\n",
       "      <td>0</td>\n",
       "      <td>0</td>\n",
       "      <td>0</td>\n",
       "      <td>0</td>\n",
       "      <td>0</td>\n",
       "      <td>0</td>\n",
       "      <td>0</td>\n",
       "      <td>0</td>\n",
       "      <td>0</td>\n",
       "      <td>0</td>\n",
       "      <td>0</td>\n",
       "      <td>0</td>\n",
       "    </tr>\n",
       "    <tr>\n",
       "      <th>2</th>\n",
       "      <td>Fungal infection</td>\n",
       "      <td>1</td>\n",
       "      <td>4</td>\n",
       "      <td>0</td>\n",
       "      <td>0</td>\n",
       "      <td>0</td>\n",
       "      <td>0</td>\n",
       "      <td>0</td>\n",
       "      <td>0</td>\n",
       "      <td>0</td>\n",
       "      <td>0</td>\n",
       "      <td>0</td>\n",
       "      <td>0</td>\n",
       "      <td>0</td>\n",
       "      <td>0</td>\n",
       "      <td>0</td>\n",
       "      <td>0</td>\n",
       "      <td>0</td>\n",
       "    </tr>\n",
       "    <tr>\n",
       "      <th>3</th>\n",
       "      <td>Fungal infection</td>\n",
       "      <td>1</td>\n",
       "      <td>3</td>\n",
       "      <td>0</td>\n",
       "      <td>0</td>\n",
       "      <td>0</td>\n",
       "      <td>0</td>\n",
       "      <td>0</td>\n",
       "      <td>0</td>\n",
       "      <td>0</td>\n",
       "      <td>0</td>\n",
       "      <td>0</td>\n",
       "      <td>0</td>\n",
       "      <td>0</td>\n",
       "      <td>0</td>\n",
       "      <td>0</td>\n",
       "      <td>0</td>\n",
       "      <td>0</td>\n",
       "    </tr>\n",
       "    <tr>\n",
       "      <th>4</th>\n",
       "      <td>Fungal infection</td>\n",
       "      <td>1</td>\n",
       "      <td>3</td>\n",
       "      <td>4</td>\n",
       "      <td>0</td>\n",
       "      <td>0</td>\n",
       "      <td>0</td>\n",
       "      <td>0</td>\n",
       "      <td>0</td>\n",
       "      <td>0</td>\n",
       "      <td>0</td>\n",
       "      <td>0</td>\n",
       "      <td>0</td>\n",
       "      <td>0</td>\n",
       "      <td>0</td>\n",
       "      <td>0</td>\n",
       "      <td>0</td>\n",
       "      <td>0</td>\n",
       "    </tr>\n",
       "  </tbody>\n",
       "</table>\n",
       "</div>"
      ],
      "text/plain": [
       "            Disease  Symptom_1  Symptom_2  Symptom_3  Symptom_4  Symptom_5  \\\n",
       "0  Fungal infection          1          3          4          0          0   \n",
       "1  Fungal infection          3          4          0          0          0   \n",
       "2  Fungal infection          1          4          0          0          0   \n",
       "3  Fungal infection          1          3          0          0          0   \n",
       "4  Fungal infection          1          3          4          0          0   \n",
       "\n",
       "   Symptom_6  Symptom_7  Symptom_8  Symptom_9  Symptom_10  Symptom_11  \\\n",
       "0          0          0          0          0           0           0   \n",
       "1          0          0          0          0           0           0   \n",
       "2          0          0          0          0           0           0   \n",
       "3          0          0          0          0           0           0   \n",
       "4          0          0          0          0           0           0   \n",
       "\n",
       "   Symptom_12  Symptom_13  Symptom_14  Symptom_15  Symptom_16  Symptom_17  \n",
       "0           0           0           0           0           0           0  \n",
       "1           0           0           0           0           0           0  \n",
       "2           0           0           0           0           0           0  \n",
       "3           0           0           0           0           0           0  \n",
       "4           0           0           0           0           0           0  "
      ]
     },
     "execution_count": 8,
     "metadata": {},
     "output_type": "execute_result"
    }
   ],
   "source": [
    "vals = df.values\n",
    "symptoms = df1['Symptom'].unique()\n",
    "\n",
    "for i in range(len(symptoms)):\n",
    "    vals[vals == symptoms[i]] = df1[df1['Symptom'] == symptoms[i]]['weight'].values[0]\n",
    "    \n",
    "d = pd.DataFrame(vals, columns=cols)\n",
    "\n",
    "d = d.replace('dischromic _patches', 0)\n",
    "d = d.replace('spotting_ urination',0)\n",
    "df = d.replace('foul_smell_of urine',0)\n",
    "df.head()"
   ]
  },
  {
   "cell_type": "code",
   "execution_count": 9,
   "id": "55825262",
   "metadata": {
    "execution": {
     "iopub.execute_input": "2021-05-26T13:24:27.007336Z",
     "iopub.status.busy": "2021-05-26T13:24:27.006426Z",
     "iopub.status.idle": "2021-05-26T13:24:27.040471Z",
     "shell.execute_reply": "2021-05-26T13:24:27.039820Z",
     "shell.execute_reply.started": "2021-05-23T05:47:27.685801Z"
    },
    "papermill": {
     "duration": 0.069047,
     "end_time": "2021-05-26T13:24:27.040613",
     "exception": false,
     "start_time": "2021-05-26T13:24:26.971566",
     "status": "completed"
    },
    "tags": []
   },
   "outputs": [],
   "source": [
    "(df[cols] == 0).all()\n",
    "\n",
    "df['Disease'].value_counts()\n",
    "\n",
    "df['Disease'].unique()\n",
    "\n",
    "data = df.iloc[:,1:].values\n",
    "labels = df['Disease'].values"
   ]
  },
  {
   "cell_type": "markdown",
   "id": "30ec5cfa",
   "metadata": {
    "papermill": {
     "duration": 0.029211,
     "end_time": "2021-05-26T13:24:27.099510",
     "exception": false,
     "start_time": "2021-05-26T13:24:27.070299",
     "status": "completed"
    },
    "tags": []
   },
   "source": [
    "<h2>Splitting the data and training the model</h2>"
   ]
  },
  {
   "cell_type": "code",
   "execution_count": 10,
   "id": "bb0b374b",
   "metadata": {},
   "outputs": [
    {
     "name": "stdout",
     "output_type": "stream",
     "text": [
      "(4182, 17) (738, 17) (4182,) (738,)\n"
     ]
    }
   ],
   "source": [
    "x_train, x_test, y_train, y_test = train_test_split(data, labels, shuffle=True, train_size = 0.85)\n",
    "print(x_train.shape, x_test.shape, y_train.shape, y_test.shape)"
   ]
  },
  {
   "cell_type": "code",
   "execution_count": 11,
   "id": "b5873356",
   "metadata": {},
   "outputs": [
    {
     "name": "stdout",
     "output_type": "stream",
     "text": [
      "F1-score% = 93.90815129089266 | Accuracy% = 93.90243902439023 | Precision% = 94.31860311993331\n"
     ]
    }
   ],
   "source": [
    "SVM_unhyperd= SVC()\n",
    "SVM_unhyperd.fit(x_train, y_train)\n",
    "preds = SVM_unhyperd.predict(x_test)\n",
    "print('F1-score% =', f1_score(y_test, preds, average='macro')*100, '|', 'Accuracy% =', accuracy_score(y_test, preds)*100,'|', 'Precision% =', precision_score(y_test, preds,average='macro')*100)"
   ]
  },
  {
   "cell_type": "markdown",
   "id": "8bf50a28",
   "metadata": {},
   "source": [
    "**Using kfold for better training and testing**"
   ]
  },
  {
   "cell_type": "code",
   "execution_count": 12,
   "id": "e0713511",
   "metadata": {},
   "outputs": [
    {
     "name": "stdout",
     "output_type": "stream",
     "text": [
      "Mean Accuracy: 93.257%, Standard Deviation: (1.23%)\n"
     ]
    }
   ],
   "source": [
    "kfold = KFold(n_splits=10,shuffle=True,random_state=42)\n",
    "SVM_unhyperd_train =cross_val_score(SVM_unhyperd, x_train, y_train, cv=kfold, scoring='accuracy')\n",
    "pd.DataFrame(SVM_unhyperd_train,columns=['Scores'])\n",
    "print(\"Mean Accuracy: %.3f%%, Standard Deviation: (%.2f%%)\" % (SVM_unhyperd_train.mean()*100.0, SVM_unhyperd_train.std()*100.0))"
   ]
  },
  {
   "cell_type": "code",
   "execution_count": 13,
   "id": "c84c3411",
   "metadata": {},
   "outputs": [
    {
     "name": "stdout",
     "output_type": "stream",
     "text": [
      "Mean Accuracy: 80.902%, Standard Deviation: (3.51%)\n"
     ]
    }
   ],
   "source": [
    "kfold = KFold(n_splits=10,shuffle=True,random_state=42)\n",
    "SVM_unhyperd_test =cross_val_score(SVM_unhyperd, x_test, y_test, cv=kfold, scoring='accuracy')\n",
    "pd.DataFrame(SVM_unhyperd_test,columns=['Scores'])\n",
    "print(\"Mean Accuracy: %.3f%%, Standard Deviation: (%.2f%%)\" % (SVM_unhyperd_test.mean()*100.0, SVM_unhyperd_test.std()*100.0))"
   ]
  },
  {
   "cell_type": "code",
   "execution_count": 14,
   "id": "2145f998",
   "metadata": {},
   "outputs": [
    {
     "name": "stdout",
     "output_type": "stream",
     "text": [
      "                                         precision    recall  f1-score   support\n",
      "\n",
      "(vertigo) Paroymsal  Positional Vertigo       0.95      0.78      0.86        23\n",
      "                                   AIDS       0.93      1.00      0.97        14\n",
      "                                   Acne       1.00      1.00      1.00        22\n",
      "                    Alcoholic hepatitis       1.00      0.94      0.97        17\n",
      "                                Allergy       0.88      0.88      0.88        17\n",
      "                              Arthritis       0.87      0.87      0.87        15\n",
      "                       Bronchial Asthma       0.64      0.69      0.67        13\n",
      "                   Cervical spondylosis       0.86      0.95      0.90        20\n",
      "                            Chicken pox       1.00      1.00      1.00        20\n",
      "                    Chronic cholestasis       0.84      0.89      0.86        18\n",
      "                            Common Cold       1.00      1.00      1.00        25\n",
      "                                 Dengue       1.00      1.00      1.00        20\n",
      "                               Diabetes       0.95      1.00      0.98        21\n",
      "           Dimorphic hemmorhoids(piles)       0.88      1.00      0.93        21\n",
      "                          Drug Reaction       1.00      0.81      0.90        16\n",
      "                       Fungal infection       0.81      1.00      0.89        17\n",
      "                                   GERD       0.95      0.95      0.95        20\n",
      "                        Gastroenteritis       0.70      0.89      0.78        18\n",
      "                           Heart attack       1.00      0.68      0.81        22\n",
      "                            Hepatitis B       1.00      1.00      1.00        19\n",
      "                            Hepatitis C       0.92      0.96      0.94        23\n",
      "                            Hepatitis D       1.00      1.00      1.00        13\n",
      "                            Hepatitis E       1.00      1.00      1.00        17\n",
      "                           Hypertension       0.93      0.84      0.89        32\n",
      "                        Hyperthyroidism       1.00      1.00      1.00        21\n",
      "                           Hypoglycemia       1.00      1.00      1.00        20\n",
      "                         Hypothyroidism       1.00      1.00      1.00        17\n",
      "                               Impetigo       1.00      0.94      0.97        16\n",
      "                               Jaundice       1.00      0.81      0.90        16\n",
      "                                Malaria       1.00      1.00      1.00        15\n",
      "                               Migraine       1.00      1.00      1.00        16\n",
      "                        Osteoarthristis       1.00      0.93      0.97        15\n",
      "           Paralysis (brain hemorrhage)       0.76      0.89      0.82        18\n",
      "                    Peptic ulcer diseae       0.89      1.00      0.94        16\n",
      "                              Pneumonia       1.00      1.00      1.00        18\n",
      "                              Psoriasis       1.00      1.00      1.00        14\n",
      "                           Tuberculosis       1.00      1.00      1.00        13\n",
      "                                Typhoid       1.00      1.00      1.00        15\n",
      "                Urinary tract infection       0.91      0.91      0.91        11\n",
      "                         Varicose veins       1.00      1.00      1.00        21\n",
      "                            hepatitis A       1.00      0.92      0.96        13\n",
      "\n",
      "                               accuracy                           0.94       738\n",
      "                              macro avg       0.94      0.94      0.94       738\n",
      "                           weighted avg       0.94      0.94      0.94       738\n",
      "\n"
     ]
    }
   ],
   "source": [
    "print(classification_report(y_test, preds))"
   ]
  },
  {
   "cell_type": "markdown",
   "id": "7af910d6",
   "metadata": {},
   "source": [
    "**SVM with hypertuning**"
   ]
  },
  {
   "cell_type": "code",
   "execution_count": 15,
   "id": "d694464b",
   "metadata": {},
   "outputs": [
    {
     "name": "stdout",
     "output_type": "stream",
     "text": [
      "F1-score% = 98.93777193633721 | Accuracy% = 98.78048780487805\n"
     ]
    }
   ],
   "source": [
    "SVM_hyperd = SVC(C=0.02, gamma=0.3, kernel='poly')\n",
    "SVM_hyperd.fit(x_train, y_train)\n",
    "preds = SVM_hyperd.predict(x_test)\n",
    "print('F1-score% =', f1_score(y_test, preds, average='macro')*100, '|', 'Accuracy% =', accuracy_score(y_test, preds)*100)"
   ]
  },
  {
   "cell_type": "code",
   "execution_count": 16,
   "id": "01458944",
   "metadata": {},
   "outputs": [
    {
     "name": "stdout",
     "output_type": "stream",
     "text": [
      "Mean Accuracy: 99.641%, Standard Deviation: (0.27%)\n"
     ]
    }
   ],
   "source": [
    "kfold = KFold(n_splits=10,shuffle=True,random_state=42)\n",
    "SVM_hyperd_train =cross_val_score(SVM_hyperd, x_train, y_train, cv=kfold, scoring='accuracy')\n",
    "pd.DataFrame(SVM_hyperd_train,columns=['Scores'])\n",
    "print(\"Mean Accuracy: %.3f%%, Standard Deviation: (%.2f%%)\" % (SVM_hyperd_train.mean()*100.0, SVM_hyperd_train.std()*100.0))"
   ]
  },
  {
   "cell_type": "code",
   "execution_count": 17,
   "id": "679daa43",
   "metadata": {},
   "outputs": [
    {
     "name": "stdout",
     "output_type": "stream",
     "text": [
      "Mean Accuracy: 95.666%, Standard Deviation: (1.46%)\n"
     ]
    }
   ],
   "source": [
    "kfold = KFold(n_splits=10,shuffle=True,random_state=42)\n",
    "SVM_hyperd_test =cross_val_score(SVM_hyperd, x_test, y_test, cv=kfold, scoring='accuracy')\n",
    "pd.DataFrame(SVM_hyperd_test,columns=['Scores'])\n",
    "print(\"Mean Accuracy: %.3f%%, Standard Deviation: (%.2f%%)\" % (SVM_hyperd_test.mean()*100.0, SVM_hyperd_test.std()*100.0))"
   ]
  },
  {
   "cell_type": "markdown",
   "id": "3c56ec4c",
   "metadata": {},
   "source": [
    "# Naive bayes"
   ]
  },
  {
   "cell_type": "code",
   "execution_count": 18,
   "id": "2c376b0c",
   "metadata": {},
   "outputs": [
    {
     "name": "stdout",
     "output_type": "stream",
     "text": [
      "F1-score% = 86.28876262026618 | Accuracy% = 87.12737127371274\n"
     ]
    }
   ],
   "source": [
    "from sklearn.naive_bayes import GaussianNB\n",
    "gaussian = GaussianNB()\n",
    "gaussian.fit(x_train, y_train)\n",
    "preds=gaussian.predict(x_test)\n",
    "print('F1-score% =', f1_score(y_test, preds, average='macro')*100, '|', 'Accuracy% =', accuracy_score(y_test, preds)*100)"
   ]
  },
  {
   "cell_type": "code",
   "execution_count": 19,
   "id": "b7a05884",
   "metadata": {},
   "outputs": [
    {
     "name": "stdout",
     "output_type": "stream",
     "text": [
      "Mean Accuracy: 86.873%, Standard Deviation: (1.41%)\n"
     ]
    }
   ],
   "source": [
    "kfold = KFold(n_splits=10,shuffle=True,random_state=42)\n",
    "gaussian_train =cross_val_score(gaussian, x_train, y_train, cv=kfold, scoring='accuracy')\n",
    "pd.DataFrame(gaussian_train,columns=['Scores'])\n",
    "print(\"Mean Accuracy: %.3f%%, Standard Deviation: (%.2f%%)\" % (gaussian_train.mean()*100.0, gaussian_train.std()*100.0))"
   ]
  },
  {
   "cell_type": "code",
   "execution_count": 20,
   "id": "3ae86c91",
   "metadata": {},
   "outputs": [
    {
     "name": "stdout",
     "output_type": "stream",
     "text": [
      "Mean Accuracy: 89.165%, Standard Deviation: (3.19%)\n"
     ]
    }
   ],
   "source": [
    "kfold = KFold(n_splits=10,shuffle=True,random_state=42)\n",
    "gaussian_test =cross_val_score(gaussian, x_test, y_test, cv=kfold, scoring='accuracy')\n",
    "pd.DataFrame(gaussian_test,columns=['Scores'])\n",
    "print(\"Mean Accuracy: %.3f%%, Standard Deviation: (%.2f%%)\" % (gaussian_test.mean()*100.0, gaussian_test.std()*100.0))"
   ]
  },
  {
   "cell_type": "markdown",
   "id": "651e0428",
   "metadata": {},
   "source": [
    "# Decision tree"
   ]
  },
  {
   "cell_type": "code",
   "execution_count": 21,
   "id": "b95c08d2",
   "metadata": {},
   "outputs": [
    {
     "name": "stdout",
     "output_type": "stream",
     "text": [
      "F1-score% = 92.34746785070335 | Accuracy% = 91.32791327913279\n"
     ]
    }
   ],
   "source": [
    "tree =DecisionTreeClassifier(criterion='gini',random_state=42,max_depth=13)\n",
    "tree.fit(x_train, y_train)\n",
    "preds=tree.predict(x_test)\n",
    "print('F1-score% =', f1_score(y_test, preds, average='macro')*100, '|', 'Accuracy% =', accuracy_score(y_test, preds)*100)"
   ]
  },
  {
   "cell_type": "code",
   "execution_count": 22,
   "id": "42b02d91",
   "metadata": {},
   "outputs": [
    {
     "name": "stdout",
     "output_type": "stream",
     "text": [
      "Mean Accuracy: 95.528%, Standard Deviation: (2.11%)\n"
     ]
    }
   ],
   "source": [
    "kfold = KFold(n_splits=10,shuffle=True,random_state=42)\n",
    "DS_train =cross_val_score(tree, x_train, y_train, cv=kfold, scoring='accuracy')\n",
    "pd.DataFrame(DS_train,columns=['Scores'])\n",
    "print(\"Mean Accuracy: %.3f%%, Standard Deviation: (%.2f%%)\" % (DS_train.mean()*100.0, DS_train.std()*100.0))"
   ]
  },
  {
   "cell_type": "code",
   "execution_count": 23,
   "id": "56fd757b",
   "metadata": {},
   "outputs": [
    {
     "name": "stdout",
     "output_type": "stream",
     "text": [
      "Mean Accuracy: 90.111%, Standard Deviation: (3.87%)\n"
     ]
    }
   ],
   "source": [
    "kfold = KFold(n_splits=10,shuffle=True,random_state=42)\n",
    "DS_test =cross_val_score(tree, x_test, y_test, cv=kfold, scoring='accuracy')\n",
    "pd.DataFrame(DS_test,columns=['Scores'])\n",
    "print(\"Mean Accuracy: %.3f%%, Standard Deviation: (%.2f%%)\" % (DS_test.mean()*100.0, DS_test.std()*100.0))"
   ]
  },
  {
   "cell_type": "markdown",
   "id": "e49b5567",
   "metadata": {},
   "source": [
    "**Using ensemble learning to see if it helps improving the decision tree model**"
   ]
  },
  {
   "cell_type": "code",
   "execution_count": 24,
   "id": "6f7b8ed7",
   "metadata": {},
   "outputs": [
    {
     "name": "stdout",
     "output_type": "stream",
     "text": [
      "Bagging - F1-score% = 99.09766309452674 | Accuracy% = 98.91598915989161\n",
      "Boosting - F1-score% = 98.93777193633721 | Accuracy% = 98.78048780487805\n"
     ]
    }
   ],
   "source": [
    "from sklearn.ensemble import BaggingClassifier, AdaBoostClassifier\n",
    "from sklearn.metrics import f1_score, accuracy_score\n",
    "\n",
    "# Create a decision tree classifier with fixed hyperparameters\n",
    "tree = DecisionTreeClassifier(criterion='gini', random_state=42, max_depth=13)\n",
    "\n",
    "# Apply bagging with 50 base classifiers\n",
    "bagging = BaggingClassifier(base_estimator=tree, n_estimators=50, random_state=42)\n",
    "bagging.fit(x_train, y_train)\n",
    "bagging_preds = bagging.predict(x_test)\n",
    "\n",
    "# Calculate F1 score and accuracy for bagging\n",
    "bagging_f1 = f1_score(y_test, bagging_preds, average='macro')\n",
    "bagging_accuracy = accuracy_score(y_test, bagging_preds)\n",
    "\n",
    "# Apply boosting with 50 base classifiers\n",
    "boosting = AdaBoostClassifier(base_estimator=tree, n_estimators=50, random_state=42)\n",
    "boosting.fit(x_train, y_train)\n",
    "boosting_preds = boosting.predict(x_test)\n",
    "\n",
    "# Calculate F1 score and accuracy for boosting\n",
    "boosting_f1 = f1_score(y_test, boosting_preds, average='macro')\n",
    "boosting_accuracy = accuracy_score(y_test, boosting_preds)\n",
    "\n",
    "# Print results\n",
    "print('Bagging - F1-score% =', bagging_f1*100, '|', 'Accuracy% =', bagging_accuracy*100)\n",
    "print('Boosting - F1-score% =', boosting_f1*100, '|', 'Accuracy% =', boosting_accuracy*100)"
   ]
  },
  {
   "cell_type": "markdown",
   "id": "a1dd33e5",
   "metadata": {},
   "source": [
    "**As we can see that bagging and boosting significantly improves the performance of the model**"
   ]
  },
  {
   "cell_type": "code",
   "execution_count": 25,
   "id": "84d10b70",
   "metadata": {},
   "outputs": [
    {
     "name": "stdout",
     "output_type": "stream",
     "text": [
      "Mean Accuracy: 99.211%, Standard Deviation: (2.11%)\n"
     ]
    }
   ],
   "source": [
    "kfold = KFold(n_splits=10,shuffle=True,random_state=42)\n",
    "ba_train =cross_val_score(bagging, x_train, y_train, cv=kfold, scoring='accuracy')\n",
    "pd.DataFrame(ba_train,columns=['Scores'])\n",
    "print(\"Mean Accuracy: %.3f%%, Standard Deviation: (%.2f%%)\" % (ba_train.mean()*100.0, DS_train.std()*100.0))"
   ]
  },
  {
   "cell_type": "code",
   "execution_count": 26,
   "id": "6eb53432",
   "metadata": {},
   "outputs": [
    {
     "name": "stdout",
     "output_type": "stream",
     "text": [
      "Mean Accuracy: 95.800%, Standard Deviation: (2.31%)\n"
     ]
    }
   ],
   "source": [
    "kfold = KFold(n_splits=10,shuffle=True,random_state=42)\n",
    "ba_test =cross_val_score(bagging, x_test, y_test, cv=kfold, scoring='accuracy')\n",
    "pd.DataFrame(ba_test,columns=['Scores'])\n",
    "print(\"Mean Accuracy: %.3f%%, Standard Deviation: (%.2f%%)\" % (ba_test.mean()*100.0, ba_test.std()*100.0))"
   ]
  },
  {
   "cell_type": "code",
   "execution_count": 27,
   "id": "470c1c47",
   "metadata": {},
   "outputs": [
    {
     "name": "stdout",
     "output_type": "stream",
     "text": [
      "Mean Accuracy: 99.641%, Standard Deviation: (2.11%)\n"
     ]
    }
   ],
   "source": [
    "kfold = KFold(n_splits=10,shuffle=True,random_state=42)\n",
    "bo_train =cross_val_score(boosting, x_train, y_train, cv=kfold, scoring='accuracy')\n",
    "pd.DataFrame(bo_train,columns=['Scores'])\n",
    "print(\"Mean Accuracy: %.3f%%, Standard Deviation: (%.2f%%)\" % (bo_train.mean()*100.0, DS_train.std()*100.0))"
   ]
  },
  {
   "cell_type": "code",
   "execution_count": 28,
   "id": "311c969c",
   "metadata": {},
   "outputs": [
    {
     "name": "stdout",
     "output_type": "stream",
     "text": [
      "Mean Accuracy: 96.076%, Standard Deviation: (2.31%)\n"
     ]
    }
   ],
   "source": [
    "kfold = KFold(n_splits=10,shuffle=True,random_state=42)\n",
    "bo_test =cross_val_score(boosting, x_test, y_test, cv=kfold, scoring='accuracy')\n",
    "pd.DataFrame(bo_test,columns=['Scores'])\n",
    "print(\"Mean Accuracy: %.3f%%, Standard Deviation: (%.2f%%)\" % (bo_test.mean()*100.0, ba_test.std()*100.0))"
   ]
  },
  {
   "cell_type": "code",
   "execution_count": 29,
   "id": "241ce939",
   "metadata": {},
   "outputs": [],
   "source": [
    "# #%matplotlib inline\n",
    "# # Create a bar chart to compare accuracies\n",
    "# fig, ax = plt.subplots()\n",
    "# ax.bar(['Decision tree','Bagging', 'Boosting'], [dt_acc,bagging_accuracy, boosting_accuracy])\n",
    "# ax.set_ylim([0, 1])\n",
    "# ax.set_ylabel('Accuracy')\n",
    "# ax.set_title('Comparison of Model Accuracy with ensemble learning')\n",
    "# plt.show()"
   ]
  },
  {
   "cell_type": "code",
   "execution_count": 30,
   "id": "0a50f7b4",
   "metadata": {},
   "outputs": [],
   "source": [
    "# from tabulate import tabulate\n",
    "# table = [[\"Model\", \"Accuracy\"],\n",
    "#          [\"Decision tree\", dt_acc],\n",
    "#          [\"Bagging\", bagging_accuracy*100],\n",
    "#          [\"Boosting\", boosting_accuracy*100]]\n",
    "\n",
    "# print(tabulate(table, headers='firstrow'))"
   ]
  },
  {
   "cell_type": "markdown",
   "id": "c3258d75",
   "metadata": {},
   "source": [
    "# Random forest"
   ]
  },
  {
   "cell_type": "code",
   "execution_count": 31,
   "id": "18534348",
   "metadata": {},
   "outputs": [
    {
     "name": "stdout",
     "output_type": "stream",
     "text": [
      "F1-score% = 99.21066977021066 | Accuracy% = 99.05149051490515\n"
     ]
    }
   ],
   "source": [
    "rfc=RandomForestClassifier(random_state=42)\n",
    "rnd_forest = RandomForestClassifier(random_state=42, max_features='sqrt', n_estimators= 500, max_depth=13)\n",
    "rnd_forest.fit(x_train,y_train)\n",
    "preds=rnd_forest.predict(x_test)\n",
    "print('F1-score% =', f1_score(y_test, preds, average='macro')*100, '|', 'Accuracy% =', accuracy_score(y_test, preds)*100)"
   ]
  },
  {
   "cell_type": "code",
   "execution_count": 32,
   "id": "16c2d7e8",
   "metadata": {},
   "outputs": [
    {
     "name": "stdout",
     "output_type": "stream",
     "text": [
      "Mean Accuracy: 99.450%, Standard Deviation: (0.36%)\n"
     ]
    }
   ],
   "source": [
    "kfold = KFold(n_splits=10,shuffle=True,random_state=42)\n",
    "rnd_forest_train =cross_val_score(rnd_forest, x_train, y_train, cv=kfold, scoring='accuracy')\n",
    "pd.DataFrame(rnd_forest_train,columns=['Scores'])\n",
    "print(\"Mean Accuracy: %.3f%%, Standard Deviation: (%.2f%%)\" % (rnd_forest_train.mean()*100.0, rnd_forest_train.std()*100.0))"
   ]
  },
  {
   "cell_type": "code",
   "execution_count": 33,
   "id": "9619e67c",
   "metadata": {},
   "outputs": [
    {
     "name": "stdout",
     "output_type": "stream",
     "text": [
      "Mean Accuracy: 96.072%, Standard Deviation: (1.54%)\n"
     ]
    }
   ],
   "source": [
    "kfold = KFold(n_splits=10,shuffle=True,random_state=42)\n",
    "rnd_forest_test =cross_val_score(rnd_forest, x_test, y_test, cv=kfold, scoring='accuracy')\n",
    "pd.DataFrame(rnd_forest_test,columns=['Scores'])\n",
    "print(\"Mean Accuracy: %.3f%%, Standard Deviation: (%.2f%%)\" % (rnd_forest_test.mean()*100.0, rnd_forest_test.std()*100.0))"
   ]
  },
  {
   "cell_type": "code",
   "execution_count": 34,
   "id": "e0fa4ab1",
   "metadata": {},
   "outputs": [
    {
     "name": "stdout",
     "output_type": "stream",
     "text": [
      "F1-score% = 98.43733961401568 | Accuracy% = 98.23848238482384\n"
     ]
    },
    {
     "name": "stderr",
     "output_type": "stream",
     "text": [
      "C:\\Users\\Antonydeepa\\Anaconda3\\lib\\site-packages\\sklearn\\linear_model\\_logistic.py:764: ConvergenceWarning: lbfgs failed to converge (status=1):\n",
      "STOP: TOTAL NO. of ITERATIONS REACHED LIMIT.\n",
      "\n",
      "Increase the number of iterations (max_iter) or scale the data as shown in:\n",
      "    https://scikit-learn.org/stable/modules/preprocessing.html\n",
      "Please also refer to the documentation for alternative solver options:\n",
      "    https://scikit-learn.org/stable/modules/linear_model.html#logistic-regression\n",
      "  extra_warning_msg=_LOGISTIC_SOLVER_CONVERGENCE_MSG)\n"
     ]
    }
   ],
   "source": [
    "from sklearn.ensemble import StackingClassifier\n",
    "\n",
    "# Define stacking model\n",
    "estimators = [('SVM', SVM_hyperd), ('Gaussian', gaussian), ('Tree', tree),('RandomForest',rnd_forest)]\n",
    "stack_model = StackingClassifier(estimators=estimators)\n",
    "\n",
    "# Train stacking model\n",
    "stack_model.fit(x_train, y_train)\n",
    "\n",
    "# Make predictions using stacking model\n",
    "stack_preds = stack_model.predict(x_test)\n",
    "\n",
    "# Print evaluation metrics for stacking model\n",
    "print('F1-score% =', f1_score(y_test, stack_preds, average='macro')*100, '|', 'Accuracy% =', accuracy_score(y_test, stack_preds)*100)"
   ]
  },
  {
   "cell_type": "markdown",
   "id": "efd9f1ce",
   "metadata": {},
   "source": [
    "**As we can see that stacking the models increased the accuracy which is a great success, let's now see if it performs well in kfold**"
   ]
  },
  {
   "cell_type": "code",
   "execution_count": 35,
   "id": "a4de219b",
   "metadata": {},
   "outputs": [
    {
     "name": "stderr",
     "output_type": "stream",
     "text": [
      "C:\\Users\\Antonydeepa\\Anaconda3\\lib\\site-packages\\sklearn\\linear_model\\_logistic.py:764: ConvergenceWarning: lbfgs failed to converge (status=1):\n",
      "STOP: TOTAL NO. of ITERATIONS REACHED LIMIT.\n",
      "\n",
      "Increase the number of iterations (max_iter) or scale the data as shown in:\n",
      "    https://scikit-learn.org/stable/modules/preprocessing.html\n",
      "Please also refer to the documentation for alternative solver options:\n",
      "    https://scikit-learn.org/stable/modules/linear_model.html#logistic-regression\n",
      "  extra_warning_msg=_LOGISTIC_SOLVER_CONVERGENCE_MSG)\n",
      "C:\\Users\\Antonydeepa\\Anaconda3\\lib\\site-packages\\sklearn\\linear_model\\_logistic.py:764: ConvergenceWarning: lbfgs failed to converge (status=1):\n",
      "STOP: TOTAL NO. of ITERATIONS REACHED LIMIT.\n",
      "\n",
      "Increase the number of iterations (max_iter) or scale the data as shown in:\n",
      "    https://scikit-learn.org/stable/modules/preprocessing.html\n",
      "Please also refer to the documentation for alternative solver options:\n",
      "    https://scikit-learn.org/stable/modules/linear_model.html#logistic-regression\n",
      "  extra_warning_msg=_LOGISTIC_SOLVER_CONVERGENCE_MSG)\n",
      "C:\\Users\\Antonydeepa\\Anaconda3\\lib\\site-packages\\sklearn\\linear_model\\_logistic.py:764: ConvergenceWarning: lbfgs failed to converge (status=1):\n",
      "STOP: TOTAL NO. of ITERATIONS REACHED LIMIT.\n",
      "\n",
      "Increase the number of iterations (max_iter) or scale the data as shown in:\n",
      "    https://scikit-learn.org/stable/modules/preprocessing.html\n",
      "Please also refer to the documentation for alternative solver options:\n",
      "    https://scikit-learn.org/stable/modules/linear_model.html#logistic-regression\n",
      "  extra_warning_msg=_LOGISTIC_SOLVER_CONVERGENCE_MSG)\n",
      "C:\\Users\\Antonydeepa\\Anaconda3\\lib\\site-packages\\sklearn\\linear_model\\_logistic.py:764: ConvergenceWarning: lbfgs failed to converge (status=1):\n",
      "STOP: TOTAL NO. of ITERATIONS REACHED LIMIT.\n",
      "\n",
      "Increase the number of iterations (max_iter) or scale the data as shown in:\n",
      "    https://scikit-learn.org/stable/modules/preprocessing.html\n",
      "Please also refer to the documentation for alternative solver options:\n",
      "    https://scikit-learn.org/stable/modules/linear_model.html#logistic-regression\n",
      "  extra_warning_msg=_LOGISTIC_SOLVER_CONVERGENCE_MSG)\n",
      "C:\\Users\\Antonydeepa\\Anaconda3\\lib\\site-packages\\sklearn\\linear_model\\_logistic.py:764: ConvergenceWarning: lbfgs failed to converge (status=1):\n",
      "STOP: TOTAL NO. of ITERATIONS REACHED LIMIT.\n",
      "\n",
      "Increase the number of iterations (max_iter) or scale the data as shown in:\n",
      "    https://scikit-learn.org/stable/modules/preprocessing.html\n",
      "Please also refer to the documentation for alternative solver options:\n",
      "    https://scikit-learn.org/stable/modules/linear_model.html#logistic-regression\n",
      "  extra_warning_msg=_LOGISTIC_SOLVER_CONVERGENCE_MSG)\n",
      "C:\\Users\\Antonydeepa\\Anaconda3\\lib\\site-packages\\sklearn\\linear_model\\_logistic.py:764: ConvergenceWarning: lbfgs failed to converge (status=1):\n",
      "STOP: TOTAL NO. of ITERATIONS REACHED LIMIT.\n",
      "\n",
      "Increase the number of iterations (max_iter) or scale the data as shown in:\n",
      "    https://scikit-learn.org/stable/modules/preprocessing.html\n",
      "Please also refer to the documentation for alternative solver options:\n",
      "    https://scikit-learn.org/stable/modules/linear_model.html#logistic-regression\n",
      "  extra_warning_msg=_LOGISTIC_SOLVER_CONVERGENCE_MSG)\n",
      "C:\\Users\\Antonydeepa\\Anaconda3\\lib\\site-packages\\sklearn\\linear_model\\_logistic.py:764: ConvergenceWarning: lbfgs failed to converge (status=1):\n",
      "STOP: TOTAL NO. of ITERATIONS REACHED LIMIT.\n",
      "\n",
      "Increase the number of iterations (max_iter) or scale the data as shown in:\n",
      "    https://scikit-learn.org/stable/modules/preprocessing.html\n",
      "Please also refer to the documentation for alternative solver options:\n",
      "    https://scikit-learn.org/stable/modules/linear_model.html#logistic-regression\n",
      "  extra_warning_msg=_LOGISTIC_SOLVER_CONVERGENCE_MSG)\n",
      "C:\\Users\\Antonydeepa\\Anaconda3\\lib\\site-packages\\sklearn\\linear_model\\_logistic.py:764: ConvergenceWarning: lbfgs failed to converge (status=1):\n",
      "STOP: TOTAL NO. of ITERATIONS REACHED LIMIT.\n",
      "\n",
      "Increase the number of iterations (max_iter) or scale the data as shown in:\n",
      "    https://scikit-learn.org/stable/modules/preprocessing.html\n",
      "Please also refer to the documentation for alternative solver options:\n",
      "    https://scikit-learn.org/stable/modules/linear_model.html#logistic-regression\n",
      "  extra_warning_msg=_LOGISTIC_SOLVER_CONVERGENCE_MSG)\n",
      "C:\\Users\\Antonydeepa\\Anaconda3\\lib\\site-packages\\sklearn\\linear_model\\_logistic.py:764: ConvergenceWarning: lbfgs failed to converge (status=1):\n",
      "STOP: TOTAL NO. of ITERATIONS REACHED LIMIT.\n",
      "\n",
      "Increase the number of iterations (max_iter) or scale the data as shown in:\n",
      "    https://scikit-learn.org/stable/modules/preprocessing.html\n",
      "Please also refer to the documentation for alternative solver options:\n",
      "    https://scikit-learn.org/stable/modules/linear_model.html#logistic-regression\n",
      "  extra_warning_msg=_LOGISTIC_SOLVER_CONVERGENCE_MSG)\n"
     ]
    },
    {
     "name": "stdout",
     "output_type": "stream",
     "text": [
      "Mean Accuracy: 98.996%, Standard Deviation: (0.40%)\n"
     ]
    },
    {
     "name": "stderr",
     "output_type": "stream",
     "text": [
      "C:\\Users\\Antonydeepa\\Anaconda3\\lib\\site-packages\\sklearn\\linear_model\\_logistic.py:764: ConvergenceWarning: lbfgs failed to converge (status=1):\n",
      "STOP: TOTAL NO. of ITERATIONS REACHED LIMIT.\n",
      "\n",
      "Increase the number of iterations (max_iter) or scale the data as shown in:\n",
      "    https://scikit-learn.org/stable/modules/preprocessing.html\n",
      "Please also refer to the documentation for alternative solver options:\n",
      "    https://scikit-learn.org/stable/modules/linear_model.html#logistic-regression\n",
      "  extra_warning_msg=_LOGISTIC_SOLVER_CONVERGENCE_MSG)\n"
     ]
    }
   ],
   "source": [
    "kfold = KFold(n_splits=10,shuffle=True,random_state=42)\n",
    "stack_train =cross_val_score(stack_model, x_train, y_train, cv=kfold, scoring='accuracy')\n",
    "pd.DataFrame(stack_train,columns=['Scores'])\n",
    "print(\"Mean Accuracy: %.3f%%, Standard Deviation: (%.2f%%)\" % (stack_train.mean()*100.0, stack_train.std()*100.0))"
   ]
  },
  {
   "cell_type": "code",
   "execution_count": 36,
   "id": "7c704256",
   "metadata": {},
   "outputs": [
    {
     "name": "stderr",
     "output_type": "stream",
     "text": [
      "C:\\Users\\Antonydeepa\\Anaconda3\\lib\\site-packages\\sklearn\\linear_model\\_logistic.py:764: ConvergenceWarning: lbfgs failed to converge (status=1):\n",
      "STOP: TOTAL NO. of ITERATIONS REACHED LIMIT.\n",
      "\n",
      "Increase the number of iterations (max_iter) or scale the data as shown in:\n",
      "    https://scikit-learn.org/stable/modules/preprocessing.html\n",
      "Please also refer to the documentation for alternative solver options:\n",
      "    https://scikit-learn.org/stable/modules/linear_model.html#logistic-regression\n",
      "  extra_warning_msg=_LOGISTIC_SOLVER_CONVERGENCE_MSG)\n",
      "C:\\Users\\Antonydeepa\\Anaconda3\\lib\\site-packages\\sklearn\\linear_model\\_logistic.py:764: ConvergenceWarning: lbfgs failed to converge (status=1):\n",
      "STOP: TOTAL NO. of ITERATIONS REACHED LIMIT.\n",
      "\n",
      "Increase the number of iterations (max_iter) or scale the data as shown in:\n",
      "    https://scikit-learn.org/stable/modules/preprocessing.html\n",
      "Please also refer to the documentation for alternative solver options:\n",
      "    https://scikit-learn.org/stable/modules/linear_model.html#logistic-regression\n",
      "  extra_warning_msg=_LOGISTIC_SOLVER_CONVERGENCE_MSG)\n",
      "C:\\Users\\Antonydeepa\\Anaconda3\\lib\\site-packages\\sklearn\\linear_model\\_logistic.py:764: ConvergenceWarning: lbfgs failed to converge (status=1):\n",
      "STOP: TOTAL NO. of ITERATIONS REACHED LIMIT.\n",
      "\n",
      "Increase the number of iterations (max_iter) or scale the data as shown in:\n",
      "    https://scikit-learn.org/stable/modules/preprocessing.html\n",
      "Please also refer to the documentation for alternative solver options:\n",
      "    https://scikit-learn.org/stable/modules/linear_model.html#logistic-regression\n",
      "  extra_warning_msg=_LOGISTIC_SOLVER_CONVERGENCE_MSG)\n",
      "C:\\Users\\Antonydeepa\\Anaconda3\\lib\\site-packages\\sklearn\\linear_model\\_logistic.py:764: ConvergenceWarning: lbfgs failed to converge (status=1):\n",
      "STOP: TOTAL NO. of ITERATIONS REACHED LIMIT.\n",
      "\n",
      "Increase the number of iterations (max_iter) or scale the data as shown in:\n",
      "    https://scikit-learn.org/stable/modules/preprocessing.html\n",
      "Please also refer to the documentation for alternative solver options:\n",
      "    https://scikit-learn.org/stable/modules/linear_model.html#logistic-regression\n",
      "  extra_warning_msg=_LOGISTIC_SOLVER_CONVERGENCE_MSG)\n",
      "C:\\Users\\Antonydeepa\\Anaconda3\\lib\\site-packages\\sklearn\\linear_model\\_logistic.py:764: ConvergenceWarning: lbfgs failed to converge (status=1):\n",
      "STOP: TOTAL NO. of ITERATIONS REACHED LIMIT.\n",
      "\n",
      "Increase the number of iterations (max_iter) or scale the data as shown in:\n",
      "    https://scikit-learn.org/stable/modules/preprocessing.html\n",
      "Please also refer to the documentation for alternative solver options:\n",
      "    https://scikit-learn.org/stable/modules/linear_model.html#logistic-regression\n",
      "  extra_warning_msg=_LOGISTIC_SOLVER_CONVERGENCE_MSG)\n",
      "C:\\Users\\Antonydeepa\\Anaconda3\\lib\\site-packages\\sklearn\\linear_model\\_logistic.py:764: ConvergenceWarning: lbfgs failed to converge (status=1):\n",
      "STOP: TOTAL NO. of ITERATIONS REACHED LIMIT.\n",
      "\n",
      "Increase the number of iterations (max_iter) or scale the data as shown in:\n",
      "    https://scikit-learn.org/stable/modules/preprocessing.html\n",
      "Please also refer to the documentation for alternative solver options:\n",
      "    https://scikit-learn.org/stable/modules/linear_model.html#logistic-regression\n",
      "  extra_warning_msg=_LOGISTIC_SOLVER_CONVERGENCE_MSG)\n",
      "C:\\Users\\Antonydeepa\\Anaconda3\\lib\\site-packages\\sklearn\\linear_model\\_logistic.py:764: ConvergenceWarning: lbfgs failed to converge (status=1):\n",
      "STOP: TOTAL NO. of ITERATIONS REACHED LIMIT.\n",
      "\n",
      "Increase the number of iterations (max_iter) or scale the data as shown in:\n",
      "    https://scikit-learn.org/stable/modules/preprocessing.html\n",
      "Please also refer to the documentation for alternative solver options:\n",
      "    https://scikit-learn.org/stable/modules/linear_model.html#logistic-regression\n",
      "  extra_warning_msg=_LOGISTIC_SOLVER_CONVERGENCE_MSG)\n",
      "C:\\Users\\Antonydeepa\\Anaconda3\\lib\\site-packages\\sklearn\\linear_model\\_logistic.py:764: ConvergenceWarning: lbfgs failed to converge (status=1):\n",
      "STOP: TOTAL NO. of ITERATIONS REACHED LIMIT.\n",
      "\n",
      "Increase the number of iterations (max_iter) or scale the data as shown in:\n",
      "    https://scikit-learn.org/stable/modules/preprocessing.html\n",
      "Please also refer to the documentation for alternative solver options:\n",
      "    https://scikit-learn.org/stable/modules/linear_model.html#logistic-regression\n",
      "  extra_warning_msg=_LOGISTIC_SOLVER_CONVERGENCE_MSG)\n",
      "C:\\Users\\Antonydeepa\\Anaconda3\\lib\\site-packages\\sklearn\\linear_model\\_logistic.py:764: ConvergenceWarning: lbfgs failed to converge (status=1):\n",
      "STOP: TOTAL NO. of ITERATIONS REACHED LIMIT.\n",
      "\n",
      "Increase the number of iterations (max_iter) or scale the data as shown in:\n",
      "    https://scikit-learn.org/stable/modules/preprocessing.html\n",
      "Please also refer to the documentation for alternative solver options:\n",
      "    https://scikit-learn.org/stable/modules/linear_model.html#logistic-regression\n",
      "  extra_warning_msg=_LOGISTIC_SOLVER_CONVERGENCE_MSG)\n"
     ]
    },
    {
     "name": "stdout",
     "output_type": "stream",
     "text": [
      "Mean Accuracy: 93.636%, Standard Deviation: (2.63%)\n"
     ]
    },
    {
     "name": "stderr",
     "output_type": "stream",
     "text": [
      "C:\\Users\\Antonydeepa\\Anaconda3\\lib\\site-packages\\sklearn\\linear_model\\_logistic.py:764: ConvergenceWarning: lbfgs failed to converge (status=1):\n",
      "STOP: TOTAL NO. of ITERATIONS REACHED LIMIT.\n",
      "\n",
      "Increase the number of iterations (max_iter) or scale the data as shown in:\n",
      "    https://scikit-learn.org/stable/modules/preprocessing.html\n",
      "Please also refer to the documentation for alternative solver options:\n",
      "    https://scikit-learn.org/stable/modules/linear_model.html#logistic-regression\n",
      "  extra_warning_msg=_LOGISTIC_SOLVER_CONVERGENCE_MSG)\n"
     ]
    }
   ],
   "source": [
    "kfold = KFold(n_splits=10,shuffle=True,random_state=42)\n",
    "stack_test =cross_val_score(stack_model, x_test, y_test, cv=kfold, scoring='accuracy')\n",
    "pd.DataFrame(stack_test,columns=['Scores'])\n",
    "print(\"Mean Accuracy: %.3f%%, Standard Deviation: (%.2f%%)\" % (stack_test.mean()*100.0, stack_test.std()*100.0))"
   ]
  },
  {
   "cell_type": "code",
   "execution_count": 37,
   "id": "de7d561b",
   "metadata": {
    "scrolled": true
   },
   "outputs": [
    {
     "name": "stdout",
     "output_type": "stream",
     "text": [
      "            Models   Accuracy   F1-Score\n",
      "0              SVM  93.902439  93.908151\n",
      "1      Gaussian NB  87.127371  86.288763\n",
      "2   Bagging for DT  98.915989  99.097663\n",
      "3  Boosting for DT  98.780488  98.937772\n",
      "4    Random Forest  99.051491  99.210670\n",
      "5         Stacking  98.238482  98.437340\n",
      "6    Decision tree  94.986450  95.777527\n"
     ]
    }
   ],
   "source": [
    "# Define the list of model names and corresponding accuracy and F1-score values\n",
    "model_names = ['SVM', 'Gaussian NB', 'Bagging for DT', 'Boosting for DT', 'Random Forest', 'Stacking']\n",
    "accuracies = [accuracy_score(y_test, preds)*100 for preds in [SVM_unhyperd.predict(x_test), gaussian.predict(x_test), bagging.predict(x_test), boosting.predict(x_test), rnd_forest.predict(x_test), stack_preds]]\n",
    "f1_scores = [f1_score(y_test, preds, average='macro')*100 for preds in [SVM_unhyperd.predict(x_test), gaussian.predict(x_test), bagging.predict(x_test), boosting.predict(x_test), rnd_forest.predict(x_test), stack_preds]]\n",
    "\n",
    "# Create a dictionary with the data\n",
    "data = {'Models': model_names, 'Accuracy': accuracies, 'F1-Score': f1_scores}\n",
    "data['Models'].append('Decision tree')\n",
    "data['Accuracy'].append(94.98644986449864)\n",
    "data['F1-Score'].append(95.77752736327078) \n",
    "\n",
    "# Create the dataframe\n",
    "acc = pd.DataFrame(data)\n",
    "print(acc)"
   ]
  },
  {
   "cell_type": "code",
   "execution_count": 38,
   "id": "f3848984",
   "metadata": {},
   "outputs": [
    {
     "data": {
      "image/png": "[encoded data removed]",
      "text/plain": [
       "<Figure size 576x432 with 1 Axes>"
      ]
     },
     "metadata": {
      "needs_background": "light"
     },
     "output_type": "display_data"
    }
   ],
   "source": [
    "fig, ax = plt.subplots(figsize=(8, 6))\n",
    "rects = ax.bar(acc['Models'], acc['Accuracy'])\n",
    "ax.set_xticklabels(acc['Models'], rotation=25)\n",
    "plt.title('Model Accuracies')\n",
    "plt.xlabel('Models')\n",
    "plt.ylabel('Accuracy (%)')\n",
    "for rect, val in zip(rects, acc['Accuracy']):\n",
    "    height = rect.get_height()\n",
    "    ax.text(rect.get_x() + rect.get_width() / 2, height, f'{val:.2f}', ha='center', va='bottom')\n",
    "# Save the plot as a jpg file\n",
    "plt.savefig('model_accuracies.png')   \n",
    "plt.show()"
   ]
  },
  {
   "cell_type": "code",
   "execution_count": 39,
   "id": "ad89d294",
   "metadata": {},
   "outputs": [
    {
     "data": {
      "image/png": "[encoded data removed]",
      "text/plain": [
       "<Figure size 1080x720 with 1 Axes>"
      ]
     },
     "metadata": {
      "needs_background": "light"
     },
     "output_type": "display_data"
    }
   ],
   "source": [
    "n_groups = 8\n",
    "algorithms = ('Naive Bayes','Unhyperd SVM', 'Hyperd SVM','Decision Tree', 'Random Forest','Bagging for DT','Boosting for DT','Stacking')\n",
    "train_accuracy = (gaussian_train.mean()*100.0, \n",
    "                 SVM_unhyperd_train.mean()*100.0,\n",
    "                 SVM_hyperd_train.mean()*100.0,\n",
    "                 DS_train.mean()*100.0,\n",
    "                 rnd_forest_train.mean()*100.0,\n",
    "                  ba_train.mean()*100.0,\n",
    "                  bo_train.mean()*100.0,\n",
    "                  stack_train.mean()*100.0\n",
    "                 )\n",
    "\n",
    "\n",
    "test_accuracy = (gaussian_test.mean()*100.0, \n",
    "                 SVM_unhyperd_test.mean()*100.0,\n",
    "                 SVM_hyperd_test.mean()*100.0,\n",
    "                 DS_test.mean()*100.0,\n",
    "                 rnd_forest_test.mean()*100.0,\n",
    "                 ba_test.mean()*100.0,\n",
    "                  bo_test.mean()*100.0,\n",
    "                 stack_test.mean()*100.0\n",
    "                 )\n",
    "\n",
    "Standard_Deviation=(gaussian_test.std()*100.0, \n",
    "                 SVM_unhyperd_test.std()*100.0,\n",
    "                 SVM_hyperd_test.std()*100.0,\n",
    "                 DS_test.std()*100.0,     \n",
    "                 rnd_forest_test.std()*100.0,\n",
    "                    ba_test.std()*100.0,\n",
    "                  bo_test.std()*100.0,\n",
    "                    stack_test.std()*100.0\n",
    "                 \n",
    "                   )\n",
    "\n",
    "# create plot\n",
    "fig, ax = plt.subplots(figsize=(15, 10))\n",
    "index = np.arange(n_groups)\n",
    "bar_width = 0.3\n",
    "opacity = 1\n",
    "rects1 = plt.bar(index, train_accuracy, bar_width, alpha = opacity, color='#38c272', label='Train')\n",
    "rects2 = plt.bar(index + bar_width, test_accuracy, bar_width, alpha = opacity, color='#267078', label='Test')\n",
    "rects3 = plt.bar(index + bar_width, Standard_Deviation, bar_width, alpha = opacity, color='red', label='Standard Deviation')\n",
    "plt.xlabel('Algorithm') # x axis label\n",
    "plt.ylabel('Accuracy (%)') # y axis label\n",
    "plt.ylim(0, 115)\n",
    "plt.title('Comparison of kfold Algorithm Accuracies') # plot title\n",
    "plt.xticks(index + bar_width * 0.5, algorithms) # x axis data labels\n",
    "plt.legend(loc = 'upper right') # show legend\n",
    "for index, data in enumerate(train_accuracy):\n",
    "    plt.text(x = index - 0.035, y = data + 1, s = round(data, 2), fontdict = dict(fontsize = 9))\n",
    "for index, data in enumerate(test_accuracy):\n",
    "    plt.text(x = index + 0.25, y = data + 1, s = round(data, 2), fontdict = dict(fontsize = 9))\n",
    "for index, data in enumerate(Standard_Deviation):\n",
    "    plt.text(x = index + 0.25, y = data + 1, s = round(data, 2), fontdict = dict(fontsize = 9))    \n",
    "plt.savefig('Comparison of kfold Algorithm Accuracies.png')   \n",
    "    "
   ]
  },
  {
   "cell_type": "markdown",
   "id": "cab75f44",
   "metadata": {},
   "source": [
    "**So from all models, we can clearly see that RandomForest model performs the best. So we will use the random forest model for our tkinter**"
   ]
  },
  {
   "cell_type": "markdown",
   "id": "9b32951e",
   "metadata": {},
   "source": [
    "**Creating the message and model prediction functions for the Tkinter GUI**"
   ]
  },
  {
   "cell_type": "code",
   "execution_count": 40,
   "id": "0ead604c",
   "metadata": {},
   "outputs": [],
   "source": [
    "import webbrowser"
   ]
  },
  {
   "cell_type": "code",
   "execution_count": 41,
   "id": "17778c63",
   "metadata": {
    "execution": {
     "iopub.execute_input": "2021-05-26T13:24:28.401599Z",
     "iopub.status.busy": "2021-05-26T13:24:28.398609Z",
     "iopub.status.idle": "2021-05-26T13:24:28.404789Z",
     "shell.execute_reply": "2021-05-26T13:24:28.405304Z",
     "shell.execute_reply.started": "2021-05-23T05:47:28.684313Z"
    },
    "papermill": {
     "duration": 0.048165,
     "end_time": "2021-05-26T13:24:28.405473",
     "exception": false,
     "start_time": "2021-05-26T13:24:28.357308",
     "status": "completed"
    },
    "tags": []
   },
   "outputs": [],
   "source": [
    "def message():\n",
    "    if (Symptom1.get() == \"None\" and  Symptom2.get() == \"None\" and Symptom3.get() == \"None\" and Symptom4.get() == \"None\" and Symptom5.get() == \"None\"):\n",
    "        messagebox.showinfo(\"OPPS!!\", \"ENTER  SYMPTOMS PLEASE\")\n",
    "    else :\n",
    "        rfc()\n",
    "\n",
    "def rfc():\n",
    "    psymptoms = [Symptom1.get(),Symptom2.get(),Symptom3.get(),Symptom4.get(),Symptom5.get()]\n",
    "    a = np.array(df1[\"Symptom\"])\n",
    "    b = np.array(df1[\"weight\"])\n",
    "    for j in range(len(psymptoms)):\n",
    "        for k in range(len(a)):\n",
    "            if psymptoms[j]==a[k]:\n",
    "                psymptoms[j]=b[k]\n",
    "\n",
    "    nulls = [0,0,0,0,0,0,0,0,0,0,0,0]\n",
    "    psy = [psymptoms + nulls]\n",
    "\n",
    "    pred2 = rnd_forest.predict(psy)\n",
    "    t3.delete(\"1.0\", END)\n",
    "    t3.insert(END, pred2[0])\n",
    "    \n",
    "    # Prompt user to check nearby hospitals\n",
    "    answer = messagebox.askyesno(\"Check nearby hospitals\", \"Do you want to check nearby hospitals?\")\n",
    "    if answer == 1:\n",
    "        # Open website URL for nearby hospitals\n",
    "        webbrowser.open(\"https://www.justdial.com/Chennai/Hospitals-in-Vit-University-Vandalur/nct-10253670\")"
   ]
  },
  {
   "cell_type": "markdown",
   "id": "1072b66a",
   "metadata": {
    "papermill": {
     "duration": 0.032913,
     "end_time": "2021-05-26T13:24:28.537640",
     "exception": false,
     "start_time": "2021-05-26T13:24:28.504727",
     "status": "completed"
    },
    "tags": []
   },
   "source": [
    "**Designing of Tkinter GUI for predicting the disease and displaying nearby hospitals**"
   ]
  },
  {
   "cell_type": "code",
   "execution_count": null,
   "id": "d989b069",
   "metadata": {
    "execution": {
     "iopub.execute_input": "2021-05-26T13:24:28.612811Z",
     "iopub.status.busy": "2021-05-26T13:24:28.612103Z",
     "iopub.status.idle": "2021-05-26T13:24:28.761142Z",
     "shell.execute_reply": "2021-05-26T13:24:28.761699Z",
     "shell.execute_reply.started": "2021-05-23T05:47:28.697627Z"
    },
    "papermill": {
     "duration": 0.191019,
     "end_time": "2021-05-26T13:24:28.761891",
     "exception": false,
     "start_time": "2021-05-26T13:24:28.570872",
     "status": "completed"
    },
    "scrolled": true,
    "tags": []
   },
   "outputs": [],
   "source": [
    "root = Tk()\n",
    "root.title(\" Disease Prediction From Symptoms\")\n",
    "root.configure()\n",
    "\n",
    "Symptom1 = StringVar()\n",
    "Symptom1.set(None)\n",
    "Symptom2 = StringVar()\n",
    "Symptom2.set(None)\n",
    "Symptom3 = StringVar()\n",
    "Symptom3.set(None)\n",
    "Symptom4 = StringVar()\n",
    "Symptom4.set(None)\n",
    "Symptom5 = StringVar()\n",
    "Symptom5.set(None)\n",
    "\n",
    "w2 = Label(root, justify=CENTER, text=\" Disease Prediction From Symptoms \")\n",
    "w2.config(font=(\"Helvetica\", 30))\n",
    "w2.grid(row=1, column=0, columnspan=2, padx=100)\n",
    "\n",
    "NameLb1 = Label(root, text=\"\")\n",
    "NameLb1.config(font=(\"Helvetica\", 20))\n",
    "NameLb1.grid(row=5, column=1, pady=10,  sticky=W)\n",
    "\n",
    "S1Lb = Label(root,  text=\"Symptom 1\")\n",
    "S1Lb.config(font=(\"Helvetica\", 15))\n",
    "S1Lb.grid(row=7, column=1, pady=10 , sticky=W)\n",
    "\n",
    "S2Lb = Label(root,  text=\"Symptom 2\")\n",
    "S2Lb.config(font=(\"Helvetica\", 15))\n",
    "S2Lb.grid(row=8, column=1, pady=10, sticky=W)\n",
    "\n",
    "S3Lb = Label(root,  text=\"Symptom 3\")\n",
    "S3Lb.config(font=(\"Helvetica\", 15))\n",
    "S3Lb.grid(row=9, column=1, pady=10, sticky=W)\n",
    "\n",
    "S4Lb = Label(root,  text=\"Symptom 4\")\n",
    "S4Lb.config(font=(\"Helvetica\", 15))\n",
    "S4Lb.grid(row=10, column=1, pady=10, sticky=W)\n",
    "\n",
    "S5Lb = Label(root,  text=\"Symptom 5\")\n",
    "S5Lb.config(font=(\"Helvetica\", 15))\n",
    "S5Lb.grid(row=11, column=1, pady=10, sticky=W)\n",
    "\n",
    "lr = Button(root, text=\"Predict\",height=2, width=20, command=message)\n",
    "lr.config(font=(\"Helvetica\", 15))\n",
    "lr.grid(row=15, column=1,pady=10)\n",
    "\n",
    "\n",
    "\n",
    "#OPTIONS = sorted(symptoms)\n",
    "OPTIONS = ['itching', 'skin_rash', 'nodal_skin_eruptions',\n",
    "       'continuous_sneezing', 'shivering', 'chills', 'joint_pain',\n",
    "       'stomach_pain', 'acidity', 'ulcers_on_tongue', 'muscle_wasting',\n",
    "       'vomiting', 'burning_micturition', 'spotting_urination', 'fatigue',\n",
    "       'weight_gain', 'anxiety', 'cold_hands_and_feets', 'mood_swings',\n",
    "       'weight_loss', 'restlessness', 'lethargy', 'patches_in_throat',\n",
    "       'irregular_sugar_level', 'cough', 'high_fever', 'sunken_eyes',\n",
    "       'breathlessness', 'sweating', 'dehydration', 'indigestion',\n",
    "       'headache', 'yellowish_skin', 'dark_urine', 'nausea',\n",
    "       'loss_of_appetite', 'pain_behind_the_eyes', 'back_pain',\n",
    "       'constipation', 'abdominal_pain', 'diarrhoea', 'mild_fever',\n",
    "       'yellow_urine', 'yellowing_of_eyes', 'acute_liver_failure',\n",
    "       'fluid_overload', 'swelling_of_stomach', 'swelled_lymph_nodes',\n",
    "       'malaise', 'blurred_and_distorted_vision', 'phlegm',\n",
    "       'throat_irritation', 'redness_of_eyes', 'sinus_pressure',\n",
    "       'runny_nose', 'congestion', 'chest_pain', 'weakness_in_limbs',\n",
    "       'fast_heart_rate', 'pain_during_bowel_movements',\n",
    "       'pain_in_anal_region', 'bloody_stool', 'irritation_in_anus',\n",
    "       'neck_pain', 'dizziness', 'cramps', 'bruising', 'obesity',\n",
    "       'swollen_legs', 'swollen_blood_vessels', 'puffy_face_and_eyes',\n",
    "       'enlarged_thyroid', 'brittle_nails', 'swollen_extremeties',\n",
    "       'excessive_hunger', 'extra_marital_contacts',\n",
    "       'drying_and_tingling_lips', 'slurred_speech', 'knee_pain',\n",
    "       'hip_joint_pain', 'muscle_weakness', 'stiff_neck',\n",
    "       'swelling_joints', 'movement_stiffness', 'spinning_movements',\n",
    "       'loss_of_balance', 'unsteadiness', 'weakness_of_one_body_side',\n",
    "       'loss_of_smell', 'bladder_discomfort', 'foul_smell_ofurine',\n",
    "       'continuous_feel_of_urine', 'passage_of_gases', 'internal_itching',\n",
    "       'toxic_look_(typhos)', 'depression', 'irritability', 'muscle_pain',\n",
    "       'altered_sensorium', 'red_spots_over_body', 'belly_pain',\n",
    "       'abnormal_menstruation', 'dischromic_patches',\n",
    "       'watering_from_eyes', 'increased_appetite', 'polyuria',\n",
    "       'family_history', 'mucoid_sputum', 'rusty_sputum',\n",
    "       'lack_of_concentration', 'visual_disturbances',\n",
    "       'receiving_blood_transfusion', 'receiving_unsterile_injections',\n",
    "       'coma', 'stomach_bleeding', 'distention_of_abdomen',\n",
    "       'history_of_alcohol_consumption', 'blood_in_sputum',\n",
    "       'prominent_veins_on_calf', 'palpitations', 'painful_walking',\n",
    "       'pus_filled_pimples', 'blackheads', 'scurring', 'skin_peeling',\n",
    "       'silver_like_dusting', 'small_dents_in_nails',\n",
    "       'inflammatory_nails', 'blister', 'red_sore_around_nose',\n",
    "       'yellow_crust_ooze', 'prognosis']\n",
    "\n",
    "S1En = OptionMenu(root, Symptom1,*OPTIONS)\n",
    "S1En.grid(row=7, column=1)\n",
    "\n",
    "S2En = OptionMenu(root, Symptom2,*OPTIONS)\n",
    "S2En.grid(row=8, column=1)\n",
    "\n",
    "S3En = OptionMenu(root, Symptom3,*OPTIONS)\n",
    "S3En.grid(row=9, column=1)\n",
    "\n",
    "S4En = OptionMenu(root, Symptom4,*OPTIONS)\n",
    "S4En.grid(row=10, column=1)\n",
    "\n",
    "S5En = OptionMenu(root, Symptom5,*OPTIONS)\n",
    "S5En.grid(row=11, column=1)\n",
    "\n",
    "NameLb = Label(root, text=\"\")\n",
    "NameLb.config(font=(\"Helvetica\", 20))\n",
    "NameLb.grid(row=13, column=1, pady=10,  sticky=W)\n",
    "\n",
    "NameLb = Label(root, text=\"\")\n",
    "NameLb.config(font=(\"Helvetica\", 15))\n",
    "NameLb.grid(row=18, column=1, pady=10,  sticky=W)\n",
    "\n",
    "t3 = Text(root, height=2, width=20)\n",
    "t3.config(font=(\"Helvetica\", 20))\n",
    "t3.grid(row=19, column=1 , padx=10)\n",
    "\n",
    "root.mainloop()"
   ]
  },
  {
   "cell_type": "markdown",
   "id": "dfce15c7",
   "metadata": {},
   "source": [
    "# Visualizing "
   ]
  },
  {
   "cell_type": "code",
   "execution_count": 6,
   "id": "d74b88fe",
   "metadata": {
    "papermill": {
     "duration": 0.032736,
     "end_time": "2021-05-26T13:24:29.560318",
     "exception": false,
     "start_time": "2021-05-26T13:24:29.527582",
     "status": "completed"
    },
    "scrolled": true,
    "tags": []
   },
   "outputs": [
    {
     "data": {
      "text/html": [
       "<div>\n",
       "<style scoped>\n",
       "    .dataframe tbody tr th:only-of-type {\n",
       "        vertical-align: middle;\n",
       "    }\n",
       "\n",
       "    .dataframe tbody tr th {\n",
       "        vertical-align: top;\n",
       "    }\n",
       "\n",
       "    .dataframe thead th {\n",
       "        text-align: right;\n",
       "    }\n",
       "</style>\n",
       "<table border=\"1\" class=\"dataframe\">\n",
       "  <thead>\n",
       "    <tr style=\"text-align: right;\">\n",
       "      <th></th>\n",
       "      <th>Disease</th>\n",
       "      <th>Symptom_1</th>\n",
       "      <th>Symptom_2</th>\n",
       "      <th>Symptom_3</th>\n",
       "      <th>Symptom_4</th>\n",
       "      <th>Symptom_5</th>\n",
       "      <th>Symptom_6</th>\n",
       "      <th>Symptom_7</th>\n",
       "      <th>Symptom_8</th>\n",
       "      <th>Symptom_9</th>\n",
       "      <th>Symptom_10</th>\n",
       "      <th>Symptom_11</th>\n",
       "      <th>Symptom_12</th>\n",
       "      <th>Symptom_13</th>\n",
       "      <th>Symptom_14</th>\n",
       "      <th>Symptom_15</th>\n",
       "      <th>Symptom_16</th>\n",
       "      <th>Symptom_17</th>\n",
       "    </tr>\n",
       "  </thead>\n",
       "  <tbody>\n",
       "    <tr>\n",
       "      <th>0</th>\n",
       "      <td>Fungal infection</td>\n",
       "      <td>itching</td>\n",
       "      <td>skin_rash</td>\n",
       "      <td>nodal_skin_eruptions</td>\n",
       "      <td>dischromic _patches</td>\n",
       "      <td>NaN</td>\n",
       "      <td>NaN</td>\n",
       "      <td>NaN</td>\n",
       "      <td>NaN</td>\n",
       "      <td>NaN</td>\n",
       "      <td>NaN</td>\n",
       "      <td>NaN</td>\n",
       "      <td>NaN</td>\n",
       "      <td>NaN</td>\n",
       "      <td>NaN</td>\n",
       "      <td>NaN</td>\n",
       "      <td>NaN</td>\n",
       "      <td>NaN</td>\n",
       "    </tr>\n",
       "    <tr>\n",
       "      <th>1</th>\n",
       "      <td>Fungal infection</td>\n",
       "      <td>skin_rash</td>\n",
       "      <td>nodal_skin_eruptions</td>\n",
       "      <td>dischromic _patches</td>\n",
       "      <td>NaN</td>\n",
       "      <td>NaN</td>\n",
       "      <td>NaN</td>\n",
       "      <td>NaN</td>\n",
       "      <td>NaN</td>\n",
       "      <td>NaN</td>\n",
       "      <td>NaN</td>\n",
       "      <td>NaN</td>\n",
       "      <td>NaN</td>\n",
       "      <td>NaN</td>\n",
       "      <td>NaN</td>\n",
       "      <td>NaN</td>\n",
       "      <td>NaN</td>\n",
       "      <td>NaN</td>\n",
       "    </tr>\n",
       "    <tr>\n",
       "      <th>2</th>\n",
       "      <td>Fungal infection</td>\n",
       "      <td>itching</td>\n",
       "      <td>nodal_skin_eruptions</td>\n",
       "      <td>dischromic _patches</td>\n",
       "      <td>NaN</td>\n",
       "      <td>NaN</td>\n",
       "      <td>NaN</td>\n",
       "      <td>NaN</td>\n",
       "      <td>NaN</td>\n",
       "      <td>NaN</td>\n",
       "      <td>NaN</td>\n",
       "      <td>NaN</td>\n",
       "      <td>NaN</td>\n",
       "      <td>NaN</td>\n",
       "      <td>NaN</td>\n",
       "      <td>NaN</td>\n",
       "      <td>NaN</td>\n",
       "      <td>NaN</td>\n",
       "    </tr>\n",
       "    <tr>\n",
       "      <th>3</th>\n",
       "      <td>Fungal infection</td>\n",
       "      <td>itching</td>\n",
       "      <td>skin_rash</td>\n",
       "      <td>dischromic _patches</td>\n",
       "      <td>NaN</td>\n",
       "      <td>NaN</td>\n",
       "      <td>NaN</td>\n",
       "      <td>NaN</td>\n",
       "      <td>NaN</td>\n",
       "      <td>NaN</td>\n",
       "      <td>NaN</td>\n",
       "      <td>NaN</td>\n",
       "      <td>NaN</td>\n",
       "      <td>NaN</td>\n",
       "      <td>NaN</td>\n",
       "      <td>NaN</td>\n",
       "      <td>NaN</td>\n",
       "      <td>NaN</td>\n",
       "    </tr>\n",
       "    <tr>\n",
       "      <th>4</th>\n",
       "      <td>Fungal infection</td>\n",
       "      <td>itching</td>\n",
       "      <td>skin_rash</td>\n",
       "      <td>nodal_skin_eruptions</td>\n",
       "      <td>NaN</td>\n",
       "      <td>NaN</td>\n",
       "      <td>NaN</td>\n",
       "      <td>NaN</td>\n",
       "      <td>NaN</td>\n",
       "      <td>NaN</td>\n",
       "      <td>NaN</td>\n",
       "      <td>NaN</td>\n",
       "      <td>NaN</td>\n",
       "      <td>NaN</td>\n",
       "      <td>NaN</td>\n",
       "      <td>NaN</td>\n",
       "      <td>NaN</td>\n",
       "      <td>NaN</td>\n",
       "    </tr>\n",
       "  </tbody>\n",
       "</table>\n",
       "</div>"
      ],
      "text/plain": [
       "            Disease   Symptom_1              Symptom_2              Symptom_3  \\\n",
       "0  Fungal infection     itching              skin_rash   nodal_skin_eruptions   \n",
       "1  Fungal infection   skin_rash   nodal_skin_eruptions    dischromic _patches   \n",
       "2  Fungal infection     itching   nodal_skin_eruptions    dischromic _patches   \n",
       "3  Fungal infection     itching              skin_rash    dischromic _patches   \n",
       "4  Fungal infection     itching              skin_rash   nodal_skin_eruptions   \n",
       "\n",
       "              Symptom_4 Symptom_5 Symptom_6 Symptom_7 Symptom_8 Symptom_9  \\\n",
       "0   dischromic _patches       NaN       NaN       NaN       NaN       NaN   \n",
       "1                   NaN       NaN       NaN       NaN       NaN       NaN   \n",
       "2                   NaN       NaN       NaN       NaN       NaN       NaN   \n",
       "3                   NaN       NaN       NaN       NaN       NaN       NaN   \n",
       "4                   NaN       NaN       NaN       NaN       NaN       NaN   \n",
       "\n",
       "  Symptom_10 Symptom_11 Symptom_12 Symptom_13 Symptom_14 Symptom_15  \\\n",
       "0        NaN        NaN        NaN        NaN        NaN        NaN   \n",
       "1        NaN        NaN        NaN        NaN        NaN        NaN   \n",
       "2        NaN        NaN        NaN        NaN        NaN        NaN   \n",
       "3        NaN        NaN        NaN        NaN        NaN        NaN   \n",
       "4        NaN        NaN        NaN        NaN        NaN        NaN   \n",
       "\n",
       "  Symptom_16 Symptom_17  \n",
       "0        NaN        NaN  \n",
       "1        NaN        NaN  \n",
       "2        NaN        NaN  \n",
       "3        NaN        NaN  \n",
       "4        NaN        NaN  "
      ]
     },
     "execution_count": 6,
     "metadata": {},
     "output_type": "execute_result"
    }
   ],
   "source": [
    "new_df = pd.read_csv('dataset.csv')\n",
    "new_df.head()"
   ]
  },
  {
   "cell_type": "markdown",
   "id": "dc001c36",
   "metadata": {},
   "source": [
    "**The first letter is only capitialized here. But we may enter in lower case or upper case. So, Captializing each word of all the disease names to get no error in the prompt**"
   ]
  },
  {
   "cell_type": "code",
   "execution_count": null,
   "id": "c6a5b6c5",
   "metadata": {},
   "outputs": [],
   "source": [
    "new_df['Disease']=new_df['Disease'].str.title()"
   ]
  },
  {
   "cell_type": "markdown",
   "id": "f066e8a2",
   "metadata": {},
   "source": [
    "**Creating functions for the visualization and to create tkinter GUI to get the user input of the disease they want the visualisations for and to get a particular disease's symtom count**"
   ]
  },
  {
   "cell_type": "code",
   "execution_count": null,
   "id": "5efa078f",
   "metadata": {},
   "outputs": [],
   "source": [
    "import pandas as pd\n",
    "import tkinter as tk\n",
    "from tkinter import messagebox\n",
    "from tkinter import ttk\n",
    "\n",
    "# Read the CSV file into a pandas dataframe\n",
    "df3 = pd.read_csv(\"symptom_precaution1.csv\")\n",
    "\n",
    "# Define a function to handle button clicks\n",
    "def show_precautions():\n",
    "    # Clear the text widget\n",
    "    text.delete(\"1.0\", tk.END)\n",
    "\n",
    "    # Get the disease name from the entry widget\n",
    "    disease = entry.get()\n",
    "\n",
    "    # Find the row of the dataframe that matches the disease name\n",
    "    match = df3[df3[\"Disease\"].str.lower() == disease.lower()]\n",
    "\n",
    "    # Print the description for the matching row\n",
    "    if match.empty:\n",
    "        text.insert(tk.END, \"No disease found.\")\n",
    "    else:\n",
    "        description = match[\"Description\"].values[0]\n",
    "        text.insert(tk.END, f\"{description}\\n\\n\")\n",
    "\n",
    "        # Prompt the user to see precautions using a message box\n",
    "        response = messagebox.askyesno(\"Precautions\", \"Would you like to see the precautions?\")\n",
    "\n",
    "        # Print the precautions for the matching row if user selects Yes\n",
    "        if response == True:\n",
    "            precautions = []\n",
    "            for i in range(1, 5):\n",
    "                precaution = match[f\"Precaution_{i}\"].values[0]\n",
    "                if isinstance(precaution, str):\n",
    "                    precautions.append(precaution)\n",
    "            if len(precautions) == 0:\n",
    "                text.insert(tk.END, \"No precautions found.\")\n",
    "            else:\n",
    "                text.insert(tk.END, \"\\nPlease take these precautions if you suspect that you have the disease or if you are not feeling well and immediately go see a doctor, your health is very important!!!.\"\"  \\n(NOTE:These are not the only preventive measures and may or may not work depending on that particular person.)\\n\\n\")\n",
    "                for i, precaution in enumerate(precautions):\n",
    "                    text.insert(tk.END, f\"{i+1}. {precaution}\\n\")\n",
    "        else:\n",
    "            text.insert(tk.END, \"Thank you for using our application.\")\n",
    "\n",
    "# Create the main window\n",
    "window = tk.Tk()\n",
    "window.title(\"SmartAI for Disease Information\")\n",
    "window.geometry(\"780x480\")\n",
    "window.configure(bg=\"#333\")\n",
    "\n",
    "# Create the widgets\n",
    "label = tk.Label(window, text=\"Enter a disease name:\", fg=\"white\", bg=\"#333\", font=(\"Helvetica\", 14))\n",
    "entry = tk.Entry(window, font=(\"Helvetica\", 14))\n",
    "button = tk.Button(window, text=\"Show Description\", command=show_precautions, fg=\"white\", bg=\"#00cc66\", font=(\"Helvetica\", 12, \"bold\"))\n",
    "text = tk.Text(window, height=20, width=100, wrap=\"word\", font=(\"Helvetica\", 12), padx=10, pady=10, bg=\"#444\", fg=\"white\")\n",
    "text.configure(insertbackground=\"white\")\n",
    "\n",
    "# Add the widgets to the window\n",
    "label.pack(pady=10)\n",
    "entry.pack(pady=10)\n",
    "button.pack(pady=10)\n",
    "text.pack(pady=10)\n",
    "\n",
    "# Configure window colors\n",
    "window.tk_setPalette(background=\"#333\", foreground=\"white\", activeBackground=\"#444\", activeForeground=\"white\")\n",
    "\n",
    "# Start the event loop\n",
    "window.mainloop()"
   ]
  },
  {
   "cell_type": "markdown",
   "id": "ee9e6c3d",
   "metadata": {},
   "source": [
    "**To create a Tkinter GUI to get the user input of the disease they want the description and precautions.**"
   ]
  },
  {
   "cell_type": "code",
   "execution_count": null,
   "id": "2a93c08b",
   "metadata": {},
   "outputs": [],
   "source": [
    "import pandas as pd\n",
    "import tkinter as tk\n",
    "\n",
    "# Read the CSV file into a pandas dataframe\n",
    "df3 = pd.read_csv(\"symptom_precaution.csv\")\n",
    "\n",
    "# Define a function to handle button clicks\n",
    "def show_precautions():\n",
    "    # Clear the text widget\n",
    "    text.delete(\"1.0\", tk.END)\n",
    "\n",
    "    # Get the disease name from the entry widget\n",
    "    disease = entry.get()\n",
    "\n",
    "    # Find the row of the dataframe that matches the disease name\n",
    "    match = df3[df3[\"Disease\"].str.lower() == disease.lower()]\n",
    "\n",
    "    # Print the precautions for the matching row\n",
    "    if match.empty:\n",
    "        text.insert(tk.END, \"No precautions found.\")\n",
    "    else:\n",
    "        precautions = []\n",
    "        for i in range(1, 5):\n",
    "            precaution = match[f\"Precaution_{i}\"].values[0]\n",
    "            if isinstance(precaution, str):\n",
    "                precautions.append(precaution)\n",
    "        if len(precautions) == 0:\n",
    "            text.insert(tk.END, \"No precautions found.\")\n",
    "        else:\n",
    "            text.insert(tk.END, \"Please take these precautions, your health is very important!!!.  (NOTE:These are not the only preventive measures and may or maynot work depending on that particular person.\\n\\n\")\n",
    "            for i, precaution in enumerate(precautions):\n",
    "                text.insert(tk.END, f\"{i+1}. {precaution}\\n\")\n",
    "\n",
    "# Create the main window\n",
    "window = tk.Tk()\n",
    "window.title(\"Disease Precautions\")\n",
    "\n",
    "# Create the widgets\n",
    "label = tk.Label(window, text=\"Enter a disease name:\")\n",
    "entry = tk.Entry(window)\n",
    "button = tk.Button(window, text=\"Show Precautions\", command=show_precautions)\n",
    "text = tk.Text(window, height=40,width=140)\n",
    "\n",
    "# Add the widgets to the window\n",
    "label.pack()\n",
    "entry.pack()\n",
    "button.pack()\n",
    "text.pack()\n",
    "\n",
    "# Start the event loop\n",
    "window.mainloop()"
   ]
  },
  {
   "cell_type": "markdown",
   "id": "99e8ff20",
   "metadata": {},
   "source": [
    "Litte statistics and visualization"
   ]
  },
  {
   "cell_type": "code",
   "execution_count": 3,
   "id": "aeb6cb94",
   "metadata": {
    "scrolled": true
   },
   "outputs": [
    {
     "data": {
      "text/html": [
       "<div>\n",
       "<style scoped>\n",
       "    .dataframe tbody tr th:only-of-type {\n",
       "        vertical-align: middle;\n",
       "    }\n",
       "\n",
       "    .dataframe tbody tr th {\n",
       "        vertical-align: top;\n",
       "    }\n",
       "\n",
       "    .dataframe thead th {\n",
       "        text-align: right;\n",
       "    }\n",
       "</style>\n",
       "<table border=\"1\" class=\"dataframe\">\n",
       "  <thead>\n",
       "    <tr style=\"text-align: right;\">\n",
       "      <th></th>\n",
       "      <th>Symptom</th>\n",
       "      <th>weight</th>\n",
       "    </tr>\n",
       "  </thead>\n",
       "  <tbody>\n",
       "    <tr>\n",
       "      <th>0</th>\n",
       "      <td>itching</td>\n",
       "      <td>1</td>\n",
       "    </tr>\n",
       "    <tr>\n",
       "      <th>1</th>\n",
       "      <td>skin_rash</td>\n",
       "      <td>3</td>\n",
       "    </tr>\n",
       "    <tr>\n",
       "      <th>2</th>\n",
       "      <td>nodal_skin_eruptions</td>\n",
       "      <td>4</td>\n",
       "    </tr>\n",
       "    <tr>\n",
       "      <th>3</th>\n",
       "      <td>continuous_sneezing</td>\n",
       "      <td>4</td>\n",
       "    </tr>\n",
       "    <tr>\n",
       "      <th>4</th>\n",
       "      <td>shivering</td>\n",
       "      <td>5</td>\n",
       "    </tr>\n",
       "  </tbody>\n",
       "</table>\n",
       "</div>"
      ],
      "text/plain": [
       "                Symptom  weight\n",
       "0               itching       1\n",
       "1             skin_rash       3\n",
       "2  nodal_skin_eruptions       4\n",
       "3   continuous_sneezing       4\n",
       "4             shivering       5"
      ]
     },
     "execution_count": 3,
     "metadata": {},
     "output_type": "execute_result"
    }
   ],
   "source": [
    "new_df1 = pd.read_csv('Symptom-severity.csv')\n",
    "new_df1.head()"
   ]
  },
  {
   "cell_type": "code",
   "execution_count": 4,
   "id": "c72e4c0b",
   "metadata": {},
   "outputs": [
    {
     "data": {
      "text/plain": [
       "array(['itching', 'skin_rash', 'nodal_skin_eruptions',\n",
       "       'continuous_sneezing', 'shivering', 'chills', 'joint_pain',\n",
       "       'stomach_pain', 'acidity', 'ulcers_on_tongue', 'muscle_wasting',\n",
       "       'vomiting', 'burning_micturition', 'spotting_urination', 'fatigue',\n",
       "       'weight_gain', 'anxiety', 'cold_hands_and_feets', 'mood_swings',\n",
       "       'weight_loss', 'restlessness', 'lethargy', 'patches_in_throat',\n",
       "       'irregular_sugar_level', 'cough', 'high_fever', 'sunken_eyes',\n",
       "       'breathlessness', 'sweating', 'dehydration', 'indigestion',\n",
       "       'headache', 'yellowish_skin', 'dark_urine', 'nausea',\n",
       "       'loss_of_appetite', 'pain_behind_the_eyes', 'back_pain',\n",
       "       'constipation', 'abdominal_pain', 'diarrhoea', 'mild_fever',\n",
       "       'yellow_urine', 'yellowing_of_eyes', 'acute_liver_failure',\n",
       "       'fluid_overload', 'swelling_of_stomach', 'swelled_lymph_nodes',\n",
       "       'malaise', 'blurred_and_distorted_vision', 'phlegm',\n",
       "       'throat_irritation', 'redness_of_eyes', 'sinus_pressure',\n",
       "       'runny_nose', 'congestion', 'chest_pain', 'weakness_in_limbs',\n",
       "       'fast_heart_rate', 'pain_during_bowel_movements',\n",
       "       'pain_in_anal_region', 'bloody_stool', 'irritation_in_anus',\n",
       "       'neck_pain', 'dizziness', 'cramps', 'bruising', 'obesity',\n",
       "       'swollen_legs', 'swollen_blood_vessels', 'puffy_face_and_eyes',\n",
       "       'enlarged_thyroid', 'brittle_nails', 'swollen_extremeties',\n",
       "       'excessive_hunger', 'extra_marital_contacts',\n",
       "       'drying_and_tingling_lips', 'slurred_speech', 'knee_pain',\n",
       "       'hip_joint_pain', 'muscle_weakness', 'stiff_neck',\n",
       "       'swelling_joints', 'movement_stiffness', 'spinning_movements',\n",
       "       'loss_of_balance', 'unsteadiness', 'weakness_of_one_body_side',\n",
       "       'loss_of_smell', 'bladder_discomfort', 'foul_smell_ofurine',\n",
       "       'continuous_feel_of_urine', 'passage_of_gases', 'internal_itching',\n",
       "       'toxic_look_(typhos)', 'depression', 'irritability', 'muscle_pain',\n",
       "       'altered_sensorium', 'red_spots_over_body', 'belly_pain',\n",
       "       'abnormal_menstruation', 'dischromic_patches',\n",
       "       'watering_from_eyes', 'increased_appetite', 'polyuria',\n",
       "       'family_history', 'mucoid_sputum', 'rusty_sputum',\n",
       "       'lack_of_concentration', 'visual_disturbances',\n",
       "       'receiving_blood_transfusion', 'receiving_unsterile_injections',\n",
       "       'coma', 'stomach_bleeding', 'distention_of_abdomen',\n",
       "       'history_of_alcohol_consumption', 'blood_in_sputum',\n",
       "       'prominent_veins_on_calf', 'palpitations', 'painful_walking',\n",
       "       'pus_filled_pimples', 'blackheads', 'scurring', 'skin_peeling',\n",
       "       'silver_like_dusting', 'small_dents_in_nails',\n",
       "       'inflammatory_nails', 'blister', 'red_sore_around_nose',\n",
       "       'yellow_crust_ooze', 'prognosis'], dtype=object)"
      ]
     },
     "execution_count": 4,
     "metadata": {},
     "output_type": "execute_result"
    }
   ],
   "source": [
    "new_df1['Symptom'].unique()"
   ]
  },
  {
   "cell_type": "code",
   "execution_count": 7,
   "id": "9ae39bff",
   "metadata": {},
   "outputs": [
    {
     "name": "stdout",
     "output_type": "stream",
     "text": [
      "The number of diseases are  41\n",
      "The number of symptoms are  132\n"
     ]
    }
   ],
   "source": [
    "print(\"The number of diseases are \",len(new_df['Disease'].unique()))\n",
    "print(\"The number of symptoms are \",len(new_df1['Symptom'].unique()))"
   ]
  },
  {
   "cell_type": "code",
   "execution_count": 8,
   "id": "12d5f04a",
   "metadata": {},
   "outputs": [
    {
     "data": {
      "text/plain": [
       "Index(['Symptom_1', 'Symptom_2', 'Symptom_3', 'Symptom_4', 'Symptom_5',\n",
       "       'Symptom_6', 'Symptom_7', 'Symptom_8', 'Symptom_9', 'Symptom_10',\n",
       "       'Symptom_11', 'Symptom_12', 'Symptom_13', 'Symptom_14', 'Symptom_15',\n",
       "       'Symptom_16', 'Symptom_17'],\n",
       "      dtype='object')"
      ]
     },
     "execution_count": 8,
     "metadata": {},
     "output_type": "execute_result"
    }
   ],
   "source": [
    "symp_cols = new_df[new_df.columns[1:]].columns\n",
    "symp_cols"
   ]
  },
  {
   "cell_type": "code",
   "execution_count": 11,
   "id": "4e2e8dd4",
   "metadata": {},
   "outputs": [
    {
     "name": "stdout",
     "output_type": "stream",
     "text": [
      "Wall time: 1.2 s\n"
     ]
    },
    {
     "data": {
      "image/png": "[encoded data removed]",
      "text/plain": [
       "<Figure size 1080x576 with 1 Axes>"
      ]
     },
     "metadata": {
      "needs_background": "light"
     },
     "output_type": "display_data"
    }
   ],
   "source": [
    "%%time\n",
    "values = []\n",
    "for col in symp_cols :\n",
    "    values = values + list(new_df[symp_cols[0]].values)\n",
    "counter = Counter(values)\n",
    "results = pd.Series(dict(counter))\n",
    "results.sort_values(ascending=True).plot(kind='barh',figsize=(15,8),color='#2b65e3')\n",
    "plt.savefig('symptom.png')"
   ]
  },
  {
   "cell_type": "markdown",
   "id": "1f992e7c",
   "metadata": {},
   "source": [
    "**From the plot above, it is seen that the symptom \"Vomitting\" is the most frequent and experienced symptom for all the patients who is suffering from all these diseases**"
   ]
  },
  {
   "cell_type": "markdown",
   "id": "cbfd7dcd",
   "metadata": {},
   "source": [
    "# Setup Files for cx_Freeze"
   ]
  },
  {
   "cell_type": "markdown",
   "id": "81384ede",
   "metadata": {},
   "source": [
    "**SmartAI app setup file**"
   ]
  },
  {
   "cell_type": "code",
   "execution_count": null,
   "id": "c1de6689",
   "metadata": {},
   "outputs": [],
   "source": [
    "import sys\n",
    "from cx_Freeze import setup, Executable\n",
    "from glob import glob\n",
    "\n",
    "# Get all csv files in the directory\n",
    "csv_files = glob(\"*.csv\")\n",
    "\n",
    "# Dependencies are automatically detected, but it might need fine tuning.\n",
    "build_exe_options = {\"packages\": [\"os\", \"pandas\", \"tkinter\", \"numpy\"], \"excludes\": [], \"include_files\": csv_files}\n",
    "\n",
    "# GUI applications require a different base on Windows (the default is for a console application).\n",
    "base = None\n",
    "if sys.platform == \"win32\":\n",
    "    base = \"Win32GUI\"\n",
    "\n",
    "setup(\n",
    "    name=\"SmartAI for Disease Information\",\n",
    "    version=\"1.0\",\n",
    "    description=\"Application for disease information\",\n",
    "    options={\"build_exe\": build_exe_options},\n",
    "    executables=[Executable(\"test5.py\", base=base)]\n",
    ")\n"
   ]
  },
  {
   "cell_type": "markdown",
   "id": "5eb88b68",
   "metadata": {},
   "source": [
    "**SmartShield app setup file**"
   ]
  },
  {
   "cell_type": "code",
   "execution_count": null,
   "id": "cbb12c34",
   "metadata": {},
   "outputs": [],
   "source": [
    "import sys\n",
    "from cx_Freeze import setup, Executable\n",
    "import os.path\n",
    "\n",
    "# Define the path to the CSV file\n",
    "data_files = [os.path.join(os.path.dirname(__file__), \"symptom_precaution1.csv\")]\n",
    "\n",
    "# Dependencies are automatically detected, but it might need fine tuning.\n",
    "build_exe_options = {\"packages\": [\"pandas\", \"tkinter\", \"numpy\"], \"excludes\": [], \"include_files\": data_files, \"include_msvcr\": True}\n",
    "\n",
    "# GUI applications require a different base on Windows (the default is for a console application).\n",
    "base = None\n",
    "if sys.platform == \"win32\":\n",
    "    base = \"Win32GUI\"\n",
    "\n",
    "setup(\n",
    "    name=\"SmartAI for Disease Information\",\n",
    "    version=\"1.0\",\n",
    "    description=\"Application for disease information\",\n",
    "    options={\"build_exe\": build_exe_options},\n",
    "    executables=[Executable(\"test5.py\", base=base)]\n",
    ")\n"
   ]
  },
  {
   "cell_type": "markdown",
   "id": "0537d4e1",
   "metadata": {},
   "source": [
    "**SymptomSpy app setup file**"
   ]
  },
  {
   "cell_type": "code",
   "execution_count": null,
   "id": "2cda27e3",
   "metadata": {},
   "outputs": [],
   "source": [
    "import sys\n",
    "from cx_Freeze import setup, Executable\n",
    "from glob import glob\n",
    "\n",
    "# Get all csv files in the directory\n",
    "csv_files = glob(\"*.csv\")\n",
    "\n",
    "# Dependencies are automatically detected, but it might need fine tuning.\n",
    "build_exe_options = {\"packages\": [\"os\", \"pandas\", \"tkinter\", \"numpy\", \"matplotlib\", \"seaborn\"], \"excludes\": [], \"include_files\": csv_files}\n",
    "\n",
    "# GUI applications require a different base on Windows (the default is for a console application).\n",
    "base = None\n",
    "if sys.platform == \"win32\":\n",
    "    base = \"Win32GUI\"\n",
    "\n",
    "setup(\n",
    "    name=\"SmartAI for Disease Visualization\",\n",
    "    version=\"1.0\",\n",
    "    description=\"Application for Disease visualization\",\n",
    "    options={\"build_exe\": build_exe_options},\n",
    "    executables=[Executable(\"untitled50.py\", base=base)]\n",
    ")"
   ]
  },
  {
   "cell_type": "markdown",
   "id": "f1ba9c45",
   "metadata": {},
   "source": [
    "**Code for conversion fo setup.py to .exe apps to be done in terminal using cx_Freeze package**"
   ]
  },
  {
   "cell_type": "code",
   "execution_count": null,
   "id": "bcc96042",
   "metadata": {},
   "outputs": [],
   "source": [
    "python build setup.py"
   ]
  }
 ],
 "metadata": {
  "kernelspec": {
   "display_name": "Python 3",
   "language": "python",
   "name": "python3"
  },
  "language_info": {
   "codemirror_mode": {
    "name": "ipython",
    "version": 3
   },
   "file_extension": ".py",
   "mimetype": "text/x-python",
   "name": "python",
   "nbconvert_exporter": "python",
   "pygments_lexer": "ipython3",
   "version": "3.7.3"
  },
  "papermill": {
   "default_parameters": {},
   "duration": 14.842818,
   "end_time": "2021-05-26T13:24:31.014710",
   "environment_variables": {},
   "exception": null,
   "input_path": "__notebook__.ipynb",
   "output_path": "__notebook__.ipynb",
   "parameters": {},
   "start_time": "2021-05-26T13:24:16.171892",
   "version": "2.3.3"
  }
 },
 "nbformat": 4,
 "nbformat_minor": 5
}
